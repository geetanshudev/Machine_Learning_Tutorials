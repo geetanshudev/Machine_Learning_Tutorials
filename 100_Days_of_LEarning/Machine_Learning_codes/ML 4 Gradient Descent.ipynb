{
 "cells": [
  {
   "cell_type": "code",
   "execution_count": 37,
   "id": "ee0f4f72",
   "metadata": {},
   "outputs": [],
   "source": [
    "import warnings\n",
    "warnings.filterwarnings(\"ignore\")\n",
    "import numpy as np\n",
    "import pandas as pd\n",
    "from sklearn.linear_model import LinearRegression\n",
    "from sklearn.metrics import r2_score\n",
    "from sklearn.model_selection import train_test_split\n",
    "import matplotlib.pyplot as plt"
   ]
  },
  {
   "cell_type": "code",
   "execution_count": 54,
   "id": "fcadaeaa",
   "metadata": {},
   "outputs": [
    {
     "data": {
      "text/html": [
       "<div>\n",
       "<style scoped>\n",
       "    .dataframe tbody tr th:only-of-type {\n",
       "        vertical-align: middle;\n",
       "    }\n",
       "\n",
       "    .dataframe tbody tr th {\n",
       "        vertical-align: top;\n",
       "    }\n",
       "\n",
       "    .dataframe thead th {\n",
       "        text-align: right;\n",
       "    }\n",
       "</style>\n",
       "<table border=\"1\" class=\"dataframe\">\n",
       "  <thead>\n",
       "    <tr style=\"text-align: right;\">\n",
       "      <th></th>\n",
       "      <th>Feature1</th>\n",
       "      <th>Feature2</th>\n",
       "      <th>Target</th>\n",
       "    </tr>\n",
       "  </thead>\n",
       "  <tbody>\n",
       "    <tr>\n",
       "      <th>0</th>\n",
       "      <td>-1.415371</td>\n",
       "      <td>-0.420645</td>\n",
       "      <td>-116.634892</td>\n",
       "    </tr>\n",
       "    <tr>\n",
       "      <th>1</th>\n",
       "      <td>0.521942</td>\n",
       "      <td>0.296985</td>\n",
       "      <td>58.737001</td>\n",
       "    </tr>\n",
       "    <tr>\n",
       "      <th>2</th>\n",
       "      <td>-0.889514</td>\n",
       "      <td>-0.815810</td>\n",
       "      <td>-73.891636</td>\n",
       "    </tr>\n",
       "    <tr>\n",
       "      <th>3</th>\n",
       "      <td>-0.883857</td>\n",
       "      <td>0.153725</td>\n",
       "      <td>-113.300704</td>\n",
       "    </tr>\n",
       "    <tr>\n",
       "      <th>4</th>\n",
       "      <td>0.738467</td>\n",
       "      <td>0.171368</td>\n",
       "      <td>63.998346</td>\n",
       "    </tr>\n",
       "    <tr>\n",
       "      <th>...</th>\n",
       "      <td>...</td>\n",
       "      <td>...</td>\n",
       "      <td>...</td>\n",
       "    </tr>\n",
       "    <tr>\n",
       "      <th>95</th>\n",
       "      <td>0.058209</td>\n",
       "      <td>-1.142970</td>\n",
       "      <td>-19.304326</td>\n",
       "    </tr>\n",
       "    <tr>\n",
       "      <th>96</th>\n",
       "      <td>1.402794</td>\n",
       "      <td>-1.401851</td>\n",
       "      <td>120.975025</td>\n",
       "    </tr>\n",
       "    <tr>\n",
       "      <th>97</th>\n",
       "      <td>-1.478522</td>\n",
       "      <td>-0.719844</td>\n",
       "      <td>-165.491468</td>\n",
       "    </tr>\n",
       "    <tr>\n",
       "      <th>98</th>\n",
       "      <td>-0.460639</td>\n",
       "      <td>1.057122</td>\n",
       "      <td>-33.269115</td>\n",
       "    </tr>\n",
       "    <tr>\n",
       "      <th>99</th>\n",
       "      <td>-0.446515</td>\n",
       "      <td>0.856399</td>\n",
       "      <td>-21.640927</td>\n",
       "    </tr>\n",
       "  </tbody>\n",
       "</table>\n",
       "<p>100 rows × 3 columns</p>\n",
       "</div>"
      ],
      "text/plain": [
       "    Feature1  Feature2      Target\n",
       "0  -1.415371 -0.420645 -116.634892\n",
       "1   0.521942  0.296985   58.737001\n",
       "2  -0.889514 -0.815810  -73.891636\n",
       "3  -0.883857  0.153725 -113.300704\n",
       "4   0.738467  0.171368   63.998346\n",
       "..       ...       ...         ...\n",
       "95  0.058209 -1.142970  -19.304326\n",
       "96  1.402794 -1.401851  120.975025\n",
       "97 -1.478522 -0.719844 -165.491468\n",
       "98 -0.460639  1.057122  -33.269115\n",
       "99 -0.446515  0.856399  -21.640927\n",
       "\n",
       "[100 rows x 3 columns]"
      ]
     },
     "execution_count": 54,
     "metadata": {},
     "output_type": "execute_result"
    }
   ],
   "source": [
    "from sklearn.datasets import make_regression\n",
    "x,y=make_regression(n_samples=100,n_features=2,n_informative=1,n_targets=1,noise=20,random_state=42)\n",
    "datas = pd.DataFrame({\n",
    "    'Feature1':x[:,0],'Feature2':x[:,1],'Target':y\n",
    "})\n",
    "datas"
   ]
  },
  {
   "cell_type": "code",
   "execution_count": 55,
   "id": "325868e8",
   "metadata": {},
   "outputs": [
    {
     "name": "stdout",
     "output_type": "stream",
     "text": [
      "[[-1.41537074]\n",
      " [ 0.52194157]\n",
      " [-0.88951443]\n",
      " [-0.88385744]]\n",
      "\n",
      "\n",
      "[[-116.63489228]\n",
      " [  58.73700141]\n",
      " [ -73.89163554]\n",
      " [-113.30070363]]\n"
     ]
    }
   ],
   "source": [
    "x = datas.iloc[:,0:1].values\n",
    "y = datas.iloc[:,2:3].values\n",
    "print(x[0:4])\n",
    "print(\"\\n\")\n",
    "print(y[0:4])"
   ]
  },
  {
   "cell_type": "code",
   "execution_count": null,
   "id": "b87925b2",
   "metadata": {},
   "outputs": [],
   "source": []
  },
  {
   "cell_type": "code",
   "execution_count": 56,
   "id": "d76f6415",
   "metadata": {},
   "outputs": [
    {
     "name": "stdout",
     "output_type": "stream",
     "text": [
      "[[90.09153416]]\n",
      "[2.95171223]\n"
     ]
    }
   ],
   "source": [
    "lr = LinearRegression()\n",
    "lr.fit(x,y)\n",
    "ypred = lr.predict(y)\n",
    "print(lr.coef_)\n",
    "print(lr.intercept_)"
   ]
  },
  {
   "cell_type": "code",
   "execution_count": 57,
   "id": "c72dc2e1",
   "metadata": {},
   "outputs": [
    {
     "data": {
      "text/plain": [
       "array([[-10504.86466946],\n",
       "       [  5294.65828157],\n",
       "       [ -6654.05909492],\n",
       "       [-10204.48249931],\n",
       "       [  5768.66091759],\n",
       "       [ -2729.52908614],\n",
       "       [  7355.8950865 ],\n",
       "       [  4352.85898698],\n",
       "       [ 10730.10985763],\n",
       "       [ -1111.09720812],\n",
       "       [-11031.84566885],\n",
       "       [ -7825.04923196],\n",
       "       [ -4326.17156045],\n",
       "       [  2325.22119005],\n",
       "       [ -3575.85776898],\n",
       "       [-11064.02629717],\n",
       "       [   197.58407869],\n",
       "       [  2709.14184894],\n",
       "       [ -6001.38413676],\n",
       "       [  2755.27519907],\n",
       "       [ -4748.21524758],\n",
       "       [ 18234.16175762],\n",
       "       [ 14975.80180069],\n",
       "       [  3570.98146852],\n",
       "       [ 10664.00084722],\n",
       "       [ -5609.33717106],\n",
       "       [  1047.11526758],\n",
       "       [-12037.78594864],\n",
       "       [ -1874.54898701],\n",
       "       [  5501.17546281],\n",
       "       [ -2534.33173143],\n",
       "       [ -9869.79731736],\n",
       "       [-13168.0248035 ],\n",
       "       [ 13642.39176822],\n",
       "       [   988.11281678],\n",
       "       [-17469.96027057],\n",
       "       [  7043.64286538],\n",
       "       [ -6956.95434822],\n",
       "       [  9288.82168429],\n",
       "       [  -404.31170858],\n",
       "       [ -2813.16079959],\n",
       "       [  2464.08130079],\n",
       "       [-19907.98911637],\n",
       "       [  1353.01936002],\n",
       "       [ 10232.03021528],\n",
       "       [ -5603.38206791],\n",
       "       [ -8790.9800147 ],\n",
       "       [  4626.82806691],\n",
       "       [ -4973.78637602],\n",
       "       [  3800.53580576],\n",
       "       [ 14177.88187955],\n",
       "       [ -7778.38320821],\n",
       "       [ -3819.0089022 ],\n",
       "       [ -8625.28660642],\n",
       "       [  5318.14329095],\n",
       "       [ -2077.0797562 ],\n",
       "       [ -2794.38415332],\n",
       "       [ -7314.37502414],\n",
       "       [-10169.35968788],\n",
       "       [  1855.49316775],\n",
       "       [  8677.30666433],\n",
       "       [ -8103.58380361],\n",
       "       [ -4786.73547195],\n",
       "       [  2579.35969806],\n",
       "       [    51.29457791],\n",
       "       [  1692.37212841],\n",
       "       [  6663.83236787],\n",
       "       [ -3662.6394173 ],\n",
       "       [ -9664.66202019],\n",
       "       [  1972.12807967],\n",
       "       [ -6463.72625327],\n",
       "       [ -6082.76355341],\n",
       "       [ -4435.72298764],\n",
       "       [   269.45786815],\n",
       "       [  7549.08860302],\n",
       "       [  2530.58072571],\n",
       "       [ -7959.73797948],\n",
       "       [  2210.14607464],\n",
       "       [  8409.44413436],\n",
       "       [  3922.30853949],\n",
       "       [  4791.03544402],\n",
       "       [  4047.01919334],\n",
       "       [  1951.23387426],\n",
       "       [  -306.4550508 ],\n",
       "       [ -5844.54914503],\n",
       "       [  6305.33985125],\n",
       "       [  2689.36853886],\n",
       "       [ -2180.46324824],\n",
       "       [  2853.01374192],\n",
       "       [ -1015.44229766],\n",
       "       [    92.31070607],\n",
       "       [ -1902.03808146],\n",
       "       [   722.05780483],\n",
       "       [   549.88573067],\n",
       "       [  -252.94559976],\n",
       "       [ -1736.20462165],\n",
       "       [ 10901.77733564],\n",
       "       [-14906.4285444 ],\n",
       "       [ -2994.31385441],\n",
       "       [ -1946.71255826]])"
      ]
     },
     "execution_count": 57,
     "metadata": {},
     "output_type": "execute_result"
    }
   ],
   "source": [
    "ypred"
   ]
  },
  {
   "cell_type": "code",
   "execution_count": 63,
   "id": "4c6737d0",
   "metadata": {},
   "outputs": [
    {
     "data": {
      "image/png": "[encoded data removed]",
      "text/plain": [
       "<Figure size 432x288 with 1 Axes>"
      ]
     },
     "metadata": {
      "needs_background": "light"
     },
     "output_type": "display_data"
    }
   ],
   "source": [
    "plt.scatter(x,y,color='green')\n",
    "#plt.plot(x,ypred,color='blue')\n",
    "plt.show()"
   ]
  },
  {
   "cell_type": "code",
   "execution_count": 65,
   "id": "ecc33778",
   "metadata": {},
   "outputs": [
    {
     "data": {
      "image/png": "[encoded data removed]",
      "text/plain": [
       "<Figure size 432x288 with 1 Axes>"
      ]
     },
     "metadata": {
      "needs_background": "light"
     },
     "output_type": "display_data"
    }
   ],
   "source": [
    "m = 90.09\n",
    "ypred1 = ((m*x)+0)\n",
    "plt.scatter(x,y,color='green')\n",
    "#plt.plot(x,ypred,color='blue')\n",
    "plt.plot(x,ypred1,color='red')\n",
    "plt.show()"
   ]
  },
  {
   "cell_type": "code",
   "execution_count": 66,
   "id": "abb29484",
   "metadata": {},
   "outputs": [
    {
     "data": {
      "image/png": "[encoded data removed]",
      "text/plain": [
       "<Figure size 432x288 with 1 Axes>"
      ]
     },
     "metadata": {
      "needs_background": "light"
     },
     "output_type": "display_data"
    }
   ],
   "source": [
    "m = 90.09\n",
    "b=0\n",
    "loss_slope = -2*np.sum(y-m*x.ravel()-b)\n",
    "loss_slope\n",
    "step_size = loss_slope*0.1\n",
    "bnew = b-step_size\n",
    "bnew\n",
    "ypred2 = ((m*x)+bnew)\n",
    "plt.scatter(x,y,color='green')\n",
    "#plt.plot(x,ypred,color='blue')\n",
    "plt.plot(x,ypred1,color='red')\n",
    "plt.plot(x,ypred2,color='orange')\n",
    "plt.show()"
   ]
  },
  {
   "cell_type": "code",
   "execution_count": 67,
   "id": "593380c6",
   "metadata": {},
   "outputs": [
    {
     "data": {
      "image/png": "[encoded data removed]",
      "text/plain": [
       "<Figure size 432x288 with 1 Axes>"
      ]
     },
     "metadata": {
      "needs_background": "light"
     },
     "output_type": "display_data"
    }
   ],
   "source": [
    "m = 90.09\n",
    "b=bnew\n",
    "loss_slope = -2*np.sum(y-m*x.ravel()-b)\n",
    "loss_slope\n",
    "step_size = loss_slope*0.1\n",
    "bnew = b-step_size\n",
    "bnew\n",
    "ypred3 = ((m*x)+bnew)\n",
    "plt.scatter(x,y,color='green')\n",
    "#plt.plot(x,ypred,color='blue')\n",
    "plt.plot(x,ypred1,color='red')\n",
    "plt.plot(x,ypred2,color='orange')\n",
    "plt.plot(x,ypred3,color='blue')\n",
    "plt.show()"
   ]
  },
  {
   "cell_type": "code",
   "execution_count": null,
   "id": "cf60efe5",
   "metadata": {},
   "outputs": [],
   "source": []
  }
 ],
 "metadata": {
  "kernelspec": {
   "display_name": "Python 3 (ipykernel)",
   "language": "python",
   "name": "python3"
  },
  "language_info": {
   "codemirror_mode": {
    "name": "ipython",
    "version": 3
   },
   "file_extension": ".py",
   "mimetype": "text/x-python",
   "name": "python",
   "nbconvert_exporter": "python",
   "pygments_lexer": "ipython3",
   "version": "3.9.12"
  }
 },
 "nbformat": 4,
 "nbformat_minor": 5
}
