{
 "cells": [
  {
   "cell_type": "code",
   "execution_count": 21,
   "id": "f1676287",
   "metadata": {},
   "outputs": [],
   "source": [
    "import warnings\n",
    "warnings.filterwarnings('ignore')\n",
    "import numpy as np\n",
    "import pandas as pd\n",
    "import matplotlib.pyplot as plt\n",
    "import seaborn as sns\n",
    "from sklearn.model_selection import train_test_split,cross_val_score\n",
    "from sklearn.preprocessing import LabelEncoder\n",
    "from sklearn.linear_model import LogisticRegression\n",
    "from sklearn.tree import DecisionTreeClassifier\n",
    "from sklearn.neighbors import KNeighborsClassifier\n",
    "from sklearn.svm import SVC\n",
    "from sklearn.ensemble import VotingClassifier,VotingRegressor\n",
    "from sklearn.metrics import accuracy_score,r2_score"
   ]
  },
  {
   "cell_type": "markdown",
   "id": "955d86d0",
   "metadata": {},
   "source": [
    "# Classifications "
   ]
  },
  {
   "cell_type": "code",
   "execution_count": 112,
   "id": "f1669f3f",
   "metadata": {},
   "outputs": [
    {
     "data": {
      "text/html": [
       "<div>\n",
       "<style scoped>\n",
       "    .dataframe tbody tr th:only-of-type {\n",
       "        vertical-align: middle;\n",
       "    }\n",
       "\n",
       "    .dataframe tbody tr th {\n",
       "        vertical-align: top;\n",
       "    }\n",
       "\n",
       "    .dataframe thead th {\n",
       "        text-align: right;\n",
       "    }\n",
       "</style>\n",
       "<table border=\"1\" class=\"dataframe\">\n",
       "  <thead>\n",
       "    <tr style=\"text-align: right;\">\n",
       "      <th></th>\n",
       "      <th>Income</th>\n",
       "      <th>Age</th>\n",
       "      <th>Loan</th>\n",
       "      <th>Loan to Income</th>\n",
       "      <th>Default</th>\n",
       "    </tr>\n",
       "  </thead>\n",
       "  <tbody>\n",
       "    <tr>\n",
       "      <th>303</th>\n",
       "      <td>28010.19093</td>\n",
       "      <td>55.366900</td>\n",
       "      <td>3971.155479</td>\n",
       "      <td>0.141775</td>\n",
       "      <td>0</td>\n",
       "    </tr>\n",
       "    <tr>\n",
       "      <th>1122</th>\n",
       "      <td>23626.72679</td>\n",
       "      <td>34.293353</td>\n",
       "      <td>2173.767690</td>\n",
       "      <td>0.092005</td>\n",
       "      <td>0</td>\n",
       "    </tr>\n",
       "    <tr>\n",
       "      <th>1339</th>\n",
       "      <td>51980.35954</td>\n",
       "      <td>35.415703</td>\n",
       "      <td>6243.045030</td>\n",
       "      <td>0.120104</td>\n",
       "      <td>0</td>\n",
       "    </tr>\n",
       "    <tr>\n",
       "      <th>973</th>\n",
       "      <td>30578.02016</td>\n",
       "      <td>55.366162</td>\n",
       "      <td>3010.350240</td>\n",
       "      <td>0.098448</td>\n",
       "      <td>0</td>\n",
       "    </tr>\n",
       "  </tbody>\n",
       "</table>\n",
       "</div>"
      ],
      "text/plain": [
       "           Income        Age         Loan  Loan to Income  Default\n",
       "303   28010.19093  55.366900  3971.155479        0.141775        0\n",
       "1122  23626.72679  34.293353  2173.767690        0.092005        0\n",
       "1339  51980.35954  35.415703  6243.045030        0.120104        0\n",
       "973   30578.02016  55.366162  3010.350240        0.098448        0"
      ]
     },
     "execution_count": 112,
     "metadata": {},
     "output_type": "execute_result"
    }
   ],
   "source": [
    "data = pd.read_csv('datasets/Credit Default.csv')\n",
    "data.sample(4)"
   ]
  },
  {
   "cell_type": "code",
   "execution_count": 113,
   "id": "75209b54",
   "metadata": {},
   "outputs": [
    {
     "data": {
      "text/plain": [
       "(2000, 5)"
      ]
     },
     "execution_count": 113,
     "metadata": {},
     "output_type": "execute_result"
    }
   ],
   "source": [
    "data.shape"
   ]
  },
  {
   "cell_type": "code",
   "execution_count": 114,
   "id": "e9256ee4",
   "metadata": {},
   "outputs": [
    {
     "data": {
      "text/plain": [
       "Income            0\n",
       "Age               0\n",
       "Loan              0\n",
       "Loan to Income    0\n",
       "Default           0\n",
       "dtype: int64"
      ]
     },
     "execution_count": 114,
     "metadata": {},
     "output_type": "execute_result"
    }
   ],
   "source": [
    "data.isnull().sum()"
   ]
  },
  {
   "cell_type": "code",
   "execution_count": 115,
   "id": "a7116ee6",
   "metadata": {},
   "outputs": [],
   "source": [
    "#encoder = LabelEncoder()\n",
    "#data['class'] = encoder.fit_transform(data['class'])"
   ]
  },
  {
   "cell_type": "code",
   "execution_count": 116,
   "id": "a88009c9",
   "metadata": {},
   "outputs": [
    {
     "data": {
      "text/html": [
       "<div>\n",
       "<style scoped>\n",
       "    .dataframe tbody tr th:only-of-type {\n",
       "        vertical-align: middle;\n",
       "    }\n",
       "\n",
       "    .dataframe tbody tr th {\n",
       "        vertical-align: top;\n",
       "    }\n",
       "\n",
       "    .dataframe thead th {\n",
       "        text-align: right;\n",
       "    }\n",
       "</style>\n",
       "<table border=\"1\" class=\"dataframe\">\n",
       "  <thead>\n",
       "    <tr style=\"text-align: right;\">\n",
       "      <th></th>\n",
       "      <th>Income</th>\n",
       "      <th>Age</th>\n",
       "      <th>Loan</th>\n",
       "      <th>Loan to Income</th>\n",
       "      <th>Default</th>\n",
       "    </tr>\n",
       "  </thead>\n",
       "  <tbody>\n",
       "    <tr>\n",
       "      <th>0</th>\n",
       "      <td>66155.92510</td>\n",
       "      <td>59.017015</td>\n",
       "      <td>8106.532131</td>\n",
       "      <td>0.122537</td>\n",
       "      <td>0</td>\n",
       "    </tr>\n",
       "    <tr>\n",
       "      <th>1</th>\n",
       "      <td>34415.15397</td>\n",
       "      <td>48.117153</td>\n",
       "      <td>6564.745018</td>\n",
       "      <td>0.190752</td>\n",
       "      <td>0</td>\n",
       "    </tr>\n",
       "    <tr>\n",
       "      <th>2</th>\n",
       "      <td>57317.17006</td>\n",
       "      <td>63.108049</td>\n",
       "      <td>8020.953296</td>\n",
       "      <td>0.139940</td>\n",
       "      <td>0</td>\n",
       "    </tr>\n",
       "    <tr>\n",
       "      <th>3</th>\n",
       "      <td>42709.53420</td>\n",
       "      <td>45.751972</td>\n",
       "      <td>6103.642260</td>\n",
       "      <td>0.142911</td>\n",
       "      <td>0</td>\n",
       "    </tr>\n",
       "    <tr>\n",
       "      <th>4</th>\n",
       "      <td>66952.68885</td>\n",
       "      <td>18.584336</td>\n",
       "      <td>8770.099235</td>\n",
       "      <td>0.130990</td>\n",
       "      <td>1</td>\n",
       "    </tr>\n",
       "    <tr>\n",
       "      <th>...</th>\n",
       "      <td>...</td>\n",
       "      <td>...</td>\n",
       "      <td>...</td>\n",
       "      <td>...</td>\n",
       "      <td>...</td>\n",
       "    </tr>\n",
       "    <tr>\n",
       "      <th>1995</th>\n",
       "      <td>59221.04487</td>\n",
       "      <td>48.518179</td>\n",
       "      <td>1926.729397</td>\n",
       "      <td>0.032535</td>\n",
       "      <td>0</td>\n",
       "    </tr>\n",
       "    <tr>\n",
       "      <th>1996</th>\n",
       "      <td>69516.12757</td>\n",
       "      <td>23.162104</td>\n",
       "      <td>3503.176156</td>\n",
       "      <td>0.050394</td>\n",
       "      <td>0</td>\n",
       "    </tr>\n",
       "    <tr>\n",
       "      <th>1997</th>\n",
       "      <td>44311.44926</td>\n",
       "      <td>28.017167</td>\n",
       "      <td>5522.786693</td>\n",
       "      <td>0.124636</td>\n",
       "      <td>1</td>\n",
       "    </tr>\n",
       "    <tr>\n",
       "      <th>1998</th>\n",
       "      <td>43756.05660</td>\n",
       "      <td>63.971796</td>\n",
       "      <td>1622.722598</td>\n",
       "      <td>0.037086</td>\n",
       "      <td>0</td>\n",
       "    </tr>\n",
       "    <tr>\n",
       "      <th>1999</th>\n",
       "      <td>69436.57955</td>\n",
       "      <td>56.152617</td>\n",
       "      <td>7378.833599</td>\n",
       "      <td>0.106267</td>\n",
       "      <td>0</td>\n",
       "    </tr>\n",
       "  </tbody>\n",
       "</table>\n",
       "<p>2000 rows × 5 columns</p>\n",
       "</div>"
      ],
      "text/plain": [
       "           Income        Age         Loan  Loan to Income  Default\n",
       "0     66155.92510  59.017015  8106.532131        0.122537        0\n",
       "1     34415.15397  48.117153  6564.745018        0.190752        0\n",
       "2     57317.17006  63.108049  8020.953296        0.139940        0\n",
       "3     42709.53420  45.751972  6103.642260        0.142911        0\n",
       "4     66952.68885  18.584336  8770.099235        0.130990        1\n",
       "...           ...        ...          ...             ...      ...\n",
       "1995  59221.04487  48.518179  1926.729397        0.032535        0\n",
       "1996  69516.12757  23.162104  3503.176156        0.050394        0\n",
       "1997  44311.44926  28.017167  5522.786693        0.124636        1\n",
       "1998  43756.05660  63.971796  1622.722598        0.037086        0\n",
       "1999  69436.57955  56.152617  7378.833599        0.106267        0\n",
       "\n",
       "[2000 rows x 5 columns]"
      ]
     },
     "execution_count": 116,
     "metadata": {},
     "output_type": "execute_result"
    }
   ],
   "source": [
    "data"
   ]
  },
  {
   "cell_type": "code",
   "execution_count": 117,
   "id": "cc41ad3b",
   "metadata": {},
   "outputs": [
    {
     "name": "stdout",
     "output_type": "stream",
     "text": [
      "(2000, 4)\n",
      "(2000, 1)\n"
     ]
    }
   ],
   "source": [
    "x = data.iloc[:,0:4]\n",
    "y = data.iloc[:,-1:]\n",
    "print(x.shape)\n",
    "print(y.shape)"
   ]
  },
  {
   "cell_type": "markdown",
   "id": "303b0a39",
   "metadata": {},
   "source": [
    "# With different ML Algorithm "
   ]
  },
  {
   "cell_type": "code",
   "execution_count": 118,
   "id": "81fb3e83",
   "metadata": {},
   "outputs": [],
   "source": [
    "clf1 = LogisticRegression()\n",
    "clf2 = DecisionTreeClassifier()\n",
    "clf3 = KNeighborsClassifier()"
   ]
  },
  {
   "cell_type": "code",
   "execution_count": 122,
   "id": "d7419167",
   "metadata": {},
   "outputs": [
    {
     "name": "stdout",
     "output_type": "stream",
     "text": [
      "LR 0.92\n",
      "DTC 0.92\n",
      "KNC 0.92\n"
     ]
    }
   ],
   "source": [
    "est = [('LR',clf1),('DTC',clf1),('KNC',clf1)]\n",
    "for estims in est:\n",
    "    sd = cross_val_score(estims[1],x,y,cv=10,scoring='accuracy')\n",
    "    print(estims[0],np.round(np.mean(sd),2))"
   ]
  },
  {
   "cell_type": "code",
   "execution_count": 123,
   "id": "5fbcd731",
   "metadata": {},
   "outputs": [
    {
     "name": "stdout",
     "output_type": "stream",
     "text": [
      "0.92\n"
     ]
    }
   ],
   "source": [
    "est = [('LR',clf1),('DTC',clf1),('KNC',clf1)]\n",
    "vc = VotingClassifier(estimators=est,voting='hard')\n",
    "cross = cross_val_score(vc,x,y,cv=10,scoring='accuracy')\n",
    "print(np.round(np.mean(cross),2))"
   ]
  },
  {
   "cell_type": "code",
   "execution_count": 124,
   "id": "17dfb273",
   "metadata": {},
   "outputs": [
    {
     "name": "stdout",
     "output_type": "stream",
     "text": [
      "Accuracy =  0.913\n"
     ]
    }
   ],
   "source": [
    "fitt = vc.fit(x,y)\n",
    "ypred = vc.predict(x)\n",
    "\n",
    "print(\"Accuracy = \",accuracy_score(ypred,y))"
   ]
  },
  {
   "cell_type": "markdown",
   "id": "e222404a",
   "metadata": {},
   "source": [
    "# with same ML Algorithm"
   ]
  },
  {
   "cell_type": "code",
   "execution_count": 125,
   "id": "cf63a17f",
   "metadata": {},
   "outputs": [],
   "source": [
    "svc1 = SVC(probability=True,kernel='poly',degree=2)\n",
    "svc2 = SVC(probability=True,kernel='rbf',degree = 3)\n",
    "svc3 = SVC(probability=True,kernel='sigmoid',degree = 2)\n"
   ]
  },
  {
   "cell_type": "code",
   "execution_count": 126,
   "id": "2c29f5bf",
   "metadata": {},
   "outputs": [
    {
     "name": "stdout",
     "output_type": "stream",
     "text": [
      "svc1 0.86\n",
      "svc2 0.86\n",
      "svc3 0.79\n"
     ]
    }
   ],
   "source": [
    "ewq = [('svc1',svc1),('svc2',svc2),('svc3',svc3)]\n",
    "for estimators in ewq:\n",
    "    sd = cross_val_score(estimators[1],x,y,cv=10,scoring='accuracy')\n",
    "    print(estimators[0],np.round(np.mean(sd),2))"
   ]
  },
  {
   "cell_type": "code",
   "execution_count": 127,
   "id": "2e024293",
   "metadata": {},
   "outputs": [
    {
     "name": "stdout",
     "output_type": "stream",
     "text": [
      "0.858\n"
     ]
    }
   ],
   "source": [
    "vc2 = VotingClassifier(estimators=ewq,voting='hard')\n",
    "cross2 = cross_val_score(vc2,x,y,cv =10,scoring='accuracy')\n",
    "print(np.round(np.mean(cross2),3))"
   ]
  },
  {
   "cell_type": "code",
   "execution_count": 128,
   "id": "b9c5b1bb",
   "metadata": {},
   "outputs": [
    {
     "name": "stdout",
     "output_type": "stream",
     "text": [
      "accuracy =  0.913\n"
     ]
    }
   ],
   "source": [
    "fittw = vc.fit(x,y)\n",
    "ypred1 = vc.predict(x)\n",
    "print(\"accuracy = \",accuracy_score(ypred,y))"
   ]
  },
  {
   "cell_type": "markdown",
   "id": "78de0345",
   "metadata": {},
   "source": [
    "# Regression"
   ]
  },
  {
   "cell_type": "code",
   "execution_count": 3,
   "id": "5479935d",
   "metadata": {},
   "outputs": [],
   "source": [
    "from sklearn.linear_model import LinearRegression\n",
    "from sklearn.tree import DecisionTreeRegressor\n",
    "from sklearn.svm import SVR\n",
    "from sklearn.linear_model import SGDRegressor\n",
    "from sklearn.ensemble import VotingRegressor"
   ]
  },
  {
   "cell_type": "code",
   "execution_count": 7,
   "id": "aa363134",
   "metadata": {},
   "outputs": [
    {
     "data": {
      "text/plain": [
       "(21613, 7)"
      ]
     },
     "execution_count": 7,
     "metadata": {},
     "output_type": "execute_result"
    }
   ],
   "source": [
    "data1 = pd.read_csv('datasets/data_house.csv',usecols=['bedrooms','bathrooms','sqft_living','floors','sqft_above','sqft_basement','price'])\n",
    "data1.shape"
   ]
  },
  {
   "cell_type": "code",
   "execution_count": 13,
   "id": "70a3e47b",
   "metadata": {},
   "outputs": [],
   "source": [
    "x = data1.iloc[:,1:]\n",
    "y = data1.iloc[:,0:1]"
   ]
  },
  {
   "cell_type": "code",
   "execution_count": 30,
   "id": "01b4b51e",
   "metadata": {},
   "outputs": [
    {
     "name": "stdout",
     "output_type": "stream",
     "text": [
      "xtrain shape =  (17290, 6)\n",
      "xtest shape =  (4323, 6)\n",
      "ytrain shape =  (17290, 1)\n",
      "ytest shape =  (4323, 1)\n"
     ]
    }
   ],
   "source": [
    "xtrain,xtest,ytrain,ytest = train_test_split(x,y,test_size=0.2,random_state=42)\n",
    "print(\"xtrain shape = \",xtrain.shape)\n",
    "print(\"xtest shape = \",xtest.shape)\n",
    "print(\"ytrain shape = \",ytrain.shape)\n",
    "print(\"ytest shape = \",ytest.shape)"
   ]
  },
  {
   "cell_type": "markdown",
   "id": "66eabb1a",
   "metadata": {},
   "source": [
    "# With Different Models"
   ]
  },
  {
   "cell_type": "code",
   "execution_count": 31,
   "id": "452225ed",
   "metadata": {},
   "outputs": [],
   "source": [
    "lr = LinearRegression()\n",
    "dtr = DecisionTreeRegressor()\n",
    "sgdr = SGDRegressor()\n",
    "svr = SVR()"
   ]
  },
  {
   "cell_type": "code",
   "execution_count": 32,
   "id": "00e7ed0c",
   "metadata": {},
   "outputs": [
    {
     "data": {
      "text/plain": [
       "[('LR', LinearRegression()),\n",
       " ('DTR', DecisionTreeRegressor()),\n",
       " ('SGDR', SGDRegressor()),\n",
       " ('SVR', SVR())]"
      ]
     },
     "execution_count": 32,
     "metadata": {},
     "output_type": "execute_result"
    }
   ],
   "source": [
    "models = []\n",
    "models.append(('LR',lr))\n",
    "models.append(('DTR',dtr))\n",
    "models.append(('SGDR',sgdr))\n",
    "models.append(('SVR',svr))\n",
    "models"
   ]
  },
  {
   "cell_type": "code",
   "execution_count": 33,
   "id": "b3760e36",
   "metadata": {},
   "outputs": [
    {
     "name": "stdout",
     "output_type": "stream",
     "text": [
      "LR 0.504\n",
      "DTR 0.209\n",
      "SGDR -3.552970413600578e+19\n",
      "SVR -0.055\n"
     ]
    }
   ],
   "source": [
    "for est in models:\n",
    "    score = cross_val_score(est[1],xtrain,ytrain,scoring='r2',cv=10)\n",
    "    print(est[0],np.round(np.mean(score),3))"
   ]
  },
  {
   "cell_type": "code",
   "execution_count": 34,
   "id": "40ca98c1",
   "metadata": {},
   "outputs": [
    {
     "name": "stdout",
     "output_type": "stream",
     "text": [
      "Voting Regressor R2 score =  -1.0042188146215574e+18\n"
     ]
    }
   ],
   "source": [
    "vr = VotingRegressor(estimators=models)\n",
    "scoring1 = cross_val_score(vr,xtrain,ytrain,scoring='r2',cv=10)\n",
    "print(\"Voting Regressor R2 score = \",np.round(np.mean(scoring1),3))"
   ]
  },
  {
   "cell_type": "code",
   "execution_count": 35,
   "id": "8e54f06d",
   "metadata": {},
   "outputs": [
    {
     "name": "stdout",
     "output_type": "stream",
     "text": [
      "R2 Score =  -4.3664363709390335\n"
     ]
    }
   ],
   "source": [
    "vr.fit(xtrain,ytrain)\n",
    "ypredd = vr.predict(xtest)\n",
    "print(\"R2 Score = \",r2_score(ypredd,ytest))"
   ]
  },
  {
   "cell_type": "markdown",
   "id": "27db15f8",
   "metadata": {},
   "source": [
    "# With same Model"
   ]
  },
  {
   "cell_type": "code",
   "execution_count": 36,
   "id": "39d57c74",
   "metadata": {},
   "outputs": [],
   "source": [
    "lr1 = LinearRegression()\n",
    "lr2 = LinearRegression()\n",
    "lr3 = LinearRegression()\n",
    "lr4 = LinearRegression()"
   ]
  },
  {
   "cell_type": "code",
   "execution_count": 37,
   "id": "6daf9729",
   "metadata": {},
   "outputs": [
    {
     "data": {
      "text/plain": [
       "[('lr1', LinearRegression()),\n",
       " ('lr2', LinearRegression()),\n",
       " ('lr3', LinearRegression()),\n",
       " ('lr4', LinearRegression())]"
      ]
     },
     "execution_count": 37,
     "metadata": {},
     "output_type": "execute_result"
    }
   ],
   "source": [
    "model1 = []\n",
    "model1.append(('lr1',lr1))\n",
    "model1.append(('lr2',lr2))\n",
    "model1.append(('lr3',lr3))\n",
    "model1.append(('lr4',lr4))\n",
    "model1"
   ]
  },
  {
   "cell_type": "code",
   "execution_count": 38,
   "id": "9a012aad",
   "metadata": {},
   "outputs": [
    {
     "name": "stdout",
     "output_type": "stream",
     "text": [
      "lr1 0.504\n",
      "lr2 0.504\n",
      "lr3 0.504\n",
      "lr4 0.504\n"
     ]
    }
   ],
   "source": [
    "for esw in model1:\n",
    "    scorr2 = cross_val_score(esw[1],xtrain,ytrain,scoring='r2',cv=10)\n",
    "    print(esw[0],np.round(np.mean(scorr2),3))"
   ]
  },
  {
   "cell_type": "code",
   "execution_count": 39,
   "id": "5a80ebb3",
   "metadata": {},
   "outputs": [
    {
     "name": "stdout",
     "output_type": "stream",
     "text": [
      "Voting Regressor R2 score =  0.504\n"
     ]
    }
   ],
   "source": [
    "vr2 = VotingRegressor(estimators=model1)\n",
    "crod=cross_val_score(vr2,xtrain,ytrain,cv=10,scoring='r2')\n",
    "print(\"Voting Regressor R2 score = \",np.round(np.mean(crod),3))"
   ]
  },
  {
   "cell_type": "code",
   "execution_count": 40,
   "id": "7656dfdc",
   "metadata": {},
   "outputs": [
    {
     "name": "stdout",
     "output_type": "stream",
     "text": [
      "R2 Score =  -4.3664363709390335\n"
     ]
    }
   ],
   "source": [
    "vr2.fit(xtrain,ytrain)\n",
    "ypredd1 = vr2.predict(xtest)\n",
    "print(\"R2 Score = \",r2_score(ypredd,ytest))"
   ]
  },
  {
   "cell_type": "code",
   "execution_count": null,
   "id": "d485819f",
   "metadata": {},
   "outputs": [],
   "source": []
  }
 ],
 "metadata": {
  "kernelspec": {
   "display_name": "Python 3 (ipykernel)",
   "language": "python",
   "name": "python3"
  },
  "language_info": {
   "codemirror_mode": {
    "name": "ipython",
    "version": 3
   },
   "file_extension": ".py",
   "mimetype": "text/x-python",
   "name": "python",
   "nbconvert_exporter": "python",
   "pygments_lexer": "ipython3",
   "version": "3.9.12"
  }
 },
 "nbformat": 4,
 "nbformat_minor": 5
}
