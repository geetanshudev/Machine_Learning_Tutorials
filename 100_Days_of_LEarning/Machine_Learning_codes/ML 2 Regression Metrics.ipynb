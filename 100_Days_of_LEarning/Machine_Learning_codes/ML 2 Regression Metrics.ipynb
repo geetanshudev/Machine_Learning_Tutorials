{
 "cells": [
  {
   "cell_type": "code",
   "execution_count": 1,
   "id": "4ee344fa",
   "metadata": {},
   "outputs": [],
   "source": [
    "import warnings\n",
    "warnings.filterwarnings(\"ignore\")\n",
    "import numpy as np\n",
    "import pandas as pd\n",
    "from sklearn.linear_model import LinearRegression\n",
    "from sklearn.model_selection import train_test_split\n"
   ]
  },
  {
   "cell_type": "code",
   "execution_count": 11,
   "id": "b853e3ee",
   "metadata": {},
   "outputs": [
    {
     "data": {
      "text/html": [
       "<div>\n",
       "<style scoped>\n",
       "    .dataframe tbody tr th:only-of-type {\n",
       "        vertical-align: middle;\n",
       "    }\n",
       "\n",
       "    .dataframe tbody tr th {\n",
       "        vertical-align: top;\n",
       "    }\n",
       "\n",
       "    .dataframe thead th {\n",
       "        text-align: right;\n",
       "    }\n",
       "</style>\n",
       "<table border=\"1\" class=\"dataframe\">\n",
       "  <thead>\n",
       "    <tr style=\"text-align: right;\">\n",
       "      <th></th>\n",
       "      <th>CGPA</th>\n",
       "      <th>IQ</th>\n",
       "    </tr>\n",
       "  </thead>\n",
       "  <tbody>\n",
       "    <tr>\n",
       "      <th>85</th>\n",
       "      <td>5.8</td>\n",
       "      <td>166</td>\n",
       "    </tr>\n",
       "    <tr>\n",
       "      <th>44</th>\n",
       "      <td>7.5</td>\n",
       "      <td>61</td>\n",
       "    </tr>\n",
       "    <tr>\n",
       "      <th>84</th>\n",
       "      <td>5.7</td>\n",
       "      <td>169</td>\n",
       "    </tr>\n",
       "    <tr>\n",
       "      <th>20</th>\n",
       "      <td>6.6</td>\n",
       "      <td>120</td>\n",
       "    </tr>\n",
       "    <tr>\n",
       "      <th>12</th>\n",
       "      <td>5.4</td>\n",
       "      <td>139</td>\n",
       "    </tr>\n",
       "    <tr>\n",
       "      <th>74</th>\n",
       "      <td>6.7</td>\n",
       "      <td>154</td>\n",
       "    </tr>\n",
       "  </tbody>\n",
       "</table>\n",
       "</div>"
      ],
      "text/plain": [
       "    CGPA   IQ\n",
       "85   5.8  166\n",
       "44   7.5   61\n",
       "84   5.7  169\n",
       "20   6.6  120\n",
       "12   5.4  139\n",
       "74   6.7  154"
      ]
     },
     "execution_count": 11,
     "metadata": {},
     "output_type": "execute_result"
    }
   ],
   "source": [
    "data = pd.read_csv(\"Placement.csv\",usecols=['CGPA','IQ'])\n",
    "data.sample(6)"
   ]
  },
  {
   "cell_type": "code",
   "execution_count": 18,
   "id": "94eab938",
   "metadata": {},
   "outputs": [
    {
     "name": "stdout",
     "output_type": "stream",
     "text": [
      "(90, 1)\n",
      "(10, 1)\n",
      "(90, 1)\n",
      "(10, 1)\n"
     ]
    }
   ],
   "source": [
    "x = data.iloc[:,0:1].values\n",
    "y = data.iloc[:,1:2].values\n",
    "xtrain,xtest,ytrain,ytest = train_test_split(x,y,test_size=0.1)\n",
    "print(xtrain.shape)\n",
    "print(xtest.shape)\n",
    "print(ytrain.shape)\n",
    "print(ytest.shape)"
   ]
  },
  {
   "cell_type": "code",
   "execution_count": 19,
   "id": "c8fc52f1",
   "metadata": {},
   "outputs": [
    {
     "name": "stdout",
     "output_type": "stream",
     "text": [
      "[[122.41006406]\n",
      " [125.69954595]\n",
      " [126.40443493]\n",
      " [126.16947194]\n",
      " [123.58487902]\n",
      " [127.3442869 ]\n",
      " [123.58487902]\n",
      " [126.16947194]\n",
      " [120.53036012]\n",
      " [121.70517508]]\n"
     ]
    }
   ],
   "source": [
    "lr = LinearRegression()\n",
    "lr.fit(xtrain,ytrain)\n",
    "ypred = lr.predict(xtest)\n",
    "print(ypred)"
   ]
  },
  {
   "cell_type": "markdown",
   "id": "88216be5",
   "metadata": {},
   "source": [
    "# Regression Metrics\n"
   ]
  },
  {
   "cell_type": "code",
   "execution_count": 20,
   "id": "a39574a7",
   "metadata": {},
   "outputs": [],
   "source": [
    "from sklearn.metrics import mean_absolute_error\n",
    "from sklearn.metrics import mean_squared_error\n",
    "from sklearn.metrics import r2_score"
   ]
  },
  {
   "cell_type": "code",
   "execution_count": 21,
   "id": "5ec18204",
   "metadata": {},
   "outputs": [
    {
     "name": "stdout",
     "output_type": "stream",
     "text": [
      "MAE =  36.443735137625595\n",
      "MSE =  1486.7656179163353\n",
      "R2 score =  0.04626649865203114\n"
     ]
    }
   ],
   "source": [
    "mae = mean_absolute_error(ytest,ypred)\n",
    "mse = mean_squared_error(ytest,ypred)\n",
    "r2 = r2_score(ytest,ypred)\n",
    "\n",
    "print(\"MAE = \",mae)\n",
    "print(\"MSE = \",mse)\n",
    "print(\"R2 score = \",r2)"
   ]
  },
  {
   "cell_type": "code",
   "execution_count": null,
   "id": "43919851",
   "metadata": {},
   "outputs": [],
   "source": []
  }
 ],
 "metadata": {
  "kernelspec": {
   "display_name": "Python 3 (ipykernel)",
   "language": "python",
   "name": "python3"
  },
  "language_info": {
   "codemirror_mode": {
    "name": "ipython",
    "version": 3
   },
   "file_extension": ".py",
   "mimetype": "text/x-python",
   "name": "python",
   "nbconvert_exporter": "python",
   "pygments_lexer": "ipython3",
   "version": "3.9.12"
  }
 },
 "nbformat": 4,
 "nbformat_minor": 5
}
