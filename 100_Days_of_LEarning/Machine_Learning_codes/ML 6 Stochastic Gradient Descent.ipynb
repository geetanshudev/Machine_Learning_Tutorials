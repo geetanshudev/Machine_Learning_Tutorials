{
 "cells": [
  {
   "cell_type": "code",
   "execution_count": 12,
   "id": "5a9235e5",
   "metadata": {},
   "outputs": [],
   "source": [
    "import warnings\n",
    "warnings.filterwarnings('ignore')\n",
    "import numpy as np\n",
    "import pandas as pd\n",
    "from sklearn.datasets import load_diabetes\n",
    "from sklearn.metrics import r2_score,mean_absolute_error\n",
    "from sklearn.model_selection import train_test_split\n",
    "from sklearn.linear_model import LinearRegression\n",
    "from sklearn.linear_model import SGDRegressor\n",
    "import matplotlib.pyplot as plt\n",
    "import time"
   ]
  },
  {
   "cell_type": "code",
   "execution_count": 13,
   "id": "cb5e0fea",
   "metadata": {},
   "outputs": [
    {
     "name": "stdout",
     "output_type": "stream",
     "text": [
      "(353, 10)\n",
      "(89, 10)\n",
      "(353,)\n",
      "(89,)\n"
     ]
    }
   ],
   "source": [
    "x,y = load_diabetes(return_X_y=True)\n",
    "xtrain,xtest,ytrain,ytest = train_test_split(x,y,test_size=0.2)\n",
    "print(xtrain.shape)\n",
    "print(xtest.shape)\n",
    "print(ytrain.shape)\n",
    "print(ytest.shape)"
   ]
  },
  {
   "cell_type": "code",
   "execution_count": 14,
   "id": "438dcfbf",
   "metadata": {},
   "outputs": [
    {
     "data": {
      "text/plain": [
       "0.15631980304308746"
      ]
     },
     "execution_count": 14,
     "metadata": {},
     "output_type": "execute_result"
    }
   ],
   "source": [
    "#Linear Regression\n",
    "lr1 = LinearRegression()\n",
    "lr1.fit(xtrain,ytrain)\n",
    "ypred = lr1.predict(xtest)\n",
    "r2 = r2_score(ypred,ytest)\n",
    "r2"
   ]
  },
  {
   "cell_type": "code",
   "execution_count": 15,
   "id": "d38d41a3",
   "metadata": {},
   "outputs": [
    {
     "data": {
      "text/plain": [
       "-1.4515696701710716"
      ]
     },
     "execution_count": 15,
     "metadata": {},
     "output_type": "execute_result"
    }
   ],
   "source": [
    "#SGDRegression\n",
    "sgd = SGDRegressor()\n",
    "sgd.fit(xtrain,ytrain)\n",
    "ypred1 = sgd.predict(xtest)\n",
    "r2_1 = r2_score(ypred1,ytest)\n",
    "r2_1"
   ]
  },
  {
   "cell_type": "code",
   "execution_count": 19,
   "id": "7a4c45a4",
   "metadata": {},
   "outputs": [
    {
     "name": "stdout",
     "output_type": "stream",
     "text": [
      "[   0.71977569 -279.33479909  493.88759773  282.68346158 -334.21761392\n",
      "  112.54246248  -94.27503936  124.58241971  613.98769852   94.40664227]\n",
      "\n",
      "\n",
      "150.9433663794891\n"
     ]
    }
   ],
   "source": [
    "print(lr1.coef_)\n",
    "print(\"\\n\")\n",
    "print(lr1.intercept_)"
   ]
  },
  {
   "cell_type": "code",
   "execution_count": 20,
   "id": "3ffcd199",
   "metadata": {},
   "outputs": [
    {
     "name": "stdout",
     "output_type": "stream",
     "text": [
      "[  54.39836179  -49.3159081   237.27548005  159.43747067   36.82648725\n",
      "   14.68282472 -145.39786226  124.82250602  219.7548744   130.87852503]\n",
      "\n",
      "\n",
      "[150.01468391]\n"
     ]
    }
   ],
   "source": [
    "print(sgd.coef_)\n",
    "print(\"\\n\")\n",
    "print(sgd.intercept_)"
   ]
  },
  {
   "cell_type": "code",
   "execution_count": null,
   "id": "1a8768e4",
   "metadata": {},
   "outputs": [],
   "source": []
  }
 ],
 "metadata": {
  "kernelspec": {
   "display_name": "Python 3 (ipykernel)",
   "language": "python",
   "name": "python3"
  },
  "language_info": {
   "codemirror_mode": {
    "name": "ipython",
    "version": 3
   },
   "file_extension": ".py",
   "mimetype": "text/x-python",
   "name": "python",
   "nbconvert_exporter": "python",
   "pygments_lexer": "ipython3",
   "version": "3.9.12"
  }
 },
 "nbformat": 4,
 "nbformat_minor": 5
}
