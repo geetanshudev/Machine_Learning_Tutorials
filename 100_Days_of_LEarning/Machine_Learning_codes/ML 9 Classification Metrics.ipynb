{
 "cells": [
  {
   "cell_type": "code",
   "execution_count": 24,
   "id": "119a9465",
   "metadata": {},
   "outputs": [],
   "source": [
    "import warnings\n",
    "warnings.filterwarnings(\"ignore\")\n",
    "import pandas as pd\n",
    "import numpy as np\n",
    "import matplotlib.pyplot as plt\n",
    "from sklearn.model_selection import train_test_split\n",
    "from sklearn.linear_model import LogisticRegression\n",
    "from sklearn.tree import DecisionTreeClassifier\n",
    "from sklearn.metrics import accuracy_score,confusion_matrix,classification_report,ConfusionMatrixDisplay,precision_score,recall_score,f1_score"
   ]
  },
  {
   "cell_type": "code",
   "execution_count": 2,
   "id": "44f44758",
   "metadata": {},
   "outputs": [
    {
     "data": {
      "text/html": [
       "<div>\n",
       "<style scoped>\n",
       "    .dataframe tbody tr th:only-of-type {\n",
       "        vertical-align: middle;\n",
       "    }\n",
       "\n",
       "    .dataframe tbody tr th {\n",
       "        vertical-align: top;\n",
       "    }\n",
       "\n",
       "    .dataframe thead th {\n",
       "        text-align: right;\n",
       "    }\n",
       "</style>\n",
       "<table border=\"1\" class=\"dataframe\">\n",
       "  <thead>\n",
       "    <tr style=\"text-align: right;\">\n",
       "      <th></th>\n",
       "      <th>Income</th>\n",
       "      <th>Age</th>\n",
       "      <th>Loan</th>\n",
       "      <th>Loan to Income</th>\n",
       "      <th>Default</th>\n",
       "    </tr>\n",
       "  </thead>\n",
       "  <tbody>\n",
       "    <tr>\n",
       "      <th>1395</th>\n",
       "      <td>36475.35353</td>\n",
       "      <td>63.330432</td>\n",
       "      <td>413.311163</td>\n",
       "      <td>0.011331</td>\n",
       "      <td>0</td>\n",
       "    </tr>\n",
       "    <tr>\n",
       "      <th>849</th>\n",
       "      <td>43205.63175</td>\n",
       "      <td>23.125877</td>\n",
       "      <td>4835.274657</td>\n",
       "      <td>0.111913</td>\n",
       "      <td>0</td>\n",
       "    </tr>\n",
       "    <tr>\n",
       "      <th>575</th>\n",
       "      <td>36266.21187</td>\n",
       "      <td>55.542363</td>\n",
       "      <td>3206.927665</td>\n",
       "      <td>0.088427</td>\n",
       "      <td>0</td>\n",
       "    </tr>\n",
       "    <tr>\n",
       "      <th>39</th>\n",
       "      <td>26578.53669</td>\n",
       "      <td>32.676044</td>\n",
       "      <td>3489.843136</td>\n",
       "      <td>0.131303</td>\n",
       "      <td>1</td>\n",
       "    </tr>\n",
       "  </tbody>\n",
       "</table>\n",
       "</div>"
      ],
      "text/plain": [
       "           Income        Age         Loan  Loan to Income  Default\n",
       "1395  36475.35353  63.330432   413.311163        0.011331        0\n",
       "849   43205.63175  23.125877  4835.274657        0.111913        0\n",
       "575   36266.21187  55.542363  3206.927665        0.088427        0\n",
       "39    26578.53669  32.676044  3489.843136        0.131303        1"
      ]
     },
     "execution_count": 2,
     "metadata": {},
     "output_type": "execute_result"
    }
   ],
   "source": [
    "data1 = pd.read_csv(\"Credit Default.csv\")\n",
    "data1.sample(4)"
   ]
  },
  {
   "cell_type": "code",
   "execution_count": 32,
   "id": "1eb1bb1a",
   "metadata": {},
   "outputs": [
    {
     "data": {
      "text/plain": [
       "Income            0\n",
       "Age               0\n",
       "Loan              0\n",
       "Loan to Income    0\n",
       "Default           0\n",
       "dtype: int64"
      ]
     },
     "execution_count": 32,
     "metadata": {},
     "output_type": "execute_result"
    }
   ],
   "source": [
    "data1.isnull().sum()"
   ]
  },
  {
   "cell_type": "code",
   "execution_count": 28,
   "id": "93f63a2c",
   "metadata": {},
   "outputs": [
    {
     "data": {
      "text/plain": [
       "Index(['Income', 'Age', 'Loan', 'Loan to Income', 'Default'], dtype='object')"
      ]
     },
     "execution_count": 28,
     "metadata": {},
     "output_type": "execute_result"
    }
   ],
   "source": [
    "data1.columns"
   ]
  },
  {
   "cell_type": "code",
   "execution_count": 9,
   "id": "e82c5af5",
   "metadata": {},
   "outputs": [
    {
     "data": {
      "text/plain": [
       "(283, 5)"
      ]
     },
     "execution_count": 9,
     "metadata": {},
     "output_type": "execute_result"
    }
   ],
   "source": [
    "data1[data1['Default']==1].shape"
   ]
  },
  {
   "cell_type": "code",
   "execution_count": 10,
   "id": "e85376a1",
   "metadata": {},
   "outputs": [
    {
     "data": {
      "text/plain": [
       "(1717, 5)"
      ]
     },
     "execution_count": 10,
     "metadata": {},
     "output_type": "execute_result"
    }
   ],
   "source": [
    "data1[data1['Default']==0].shape"
   ]
  },
  {
   "cell_type": "code",
   "execution_count": 11,
   "id": "9bc571ba",
   "metadata": {},
   "outputs": [
    {
     "data": {
      "text/plain": [
       "(2000, 5)"
      ]
     },
     "execution_count": 11,
     "metadata": {},
     "output_type": "execute_result"
    }
   ],
   "source": [
    "data1.shape"
   ]
  },
  {
   "cell_type": "code",
   "execution_count": 13,
   "id": "a56124c2",
   "metadata": {},
   "outputs": [
    {
     "name": "stdout",
     "output_type": "stream",
     "text": [
      "<class 'pandas.core.frame.DataFrame'>\n",
      "RangeIndex: 2000 entries, 0 to 1999\n",
      "Data columns (total 5 columns):\n",
      " #   Column          Non-Null Count  Dtype  \n",
      "---  ------          --------------  -----  \n",
      " 0   Income          2000 non-null   float64\n",
      " 1   Age             2000 non-null   float64\n",
      " 2   Loan            2000 non-null   float64\n",
      " 3   Loan to Income  2000 non-null   float64\n",
      " 4   Default         2000 non-null   int64  \n",
      "dtypes: float64(4), int64(1)\n",
      "memory usage: 78.2 KB\n"
     ]
    }
   ],
   "source": [
    "data1.info()"
   ]
  },
  {
   "cell_type": "code",
   "execution_count": 22,
   "id": "b58fb5b5",
   "metadata": {},
   "outputs": [
    {
     "data": {
      "text/plain": [
       "Default\n",
       "0    1717\n",
       "1     283\n",
       "Name: count, dtype: int64"
      ]
     },
     "execution_count": 22,
     "metadata": {},
     "output_type": "execute_result"
    }
   ],
   "source": [
    "hist = data1['Default'].value_counts()\n",
    "hist"
   ]
  },
  {
   "cell_type": "code",
   "execution_count": 25,
   "id": "0340bc35",
   "metadata": {},
   "outputs": [
    {
     "data": {
      "text/plain": [
       "<bound method Series.count of Default\n",
       "0    1717\n",
       "1     283\n",
       "Name: count, dtype: int64>"
      ]
     },
     "execution_count": 25,
     "metadata": {},
     "output_type": "execute_result"
    }
   ],
   "source": [
    "hist.count"
   ]
  },
  {
   "cell_type": "markdown",
   "id": "f2f14cba",
   "metadata": {},
   "source": [
    "Train Test split"
   ]
  },
  {
   "cell_type": "code",
   "execution_count": 3,
   "id": "2bdd5b4b",
   "metadata": {},
   "outputs": [],
   "source": [
    "x = data1.iloc[:,0:4].values\n",
    "y = data1.iloc[:,4:5].values"
   ]
  },
  {
   "cell_type": "code",
   "execution_count": 4,
   "id": "1408f0ab",
   "metadata": {},
   "outputs": [
    {
     "name": "stdout",
     "output_type": "stream",
     "text": [
      "(1600, 4)\n",
      "(400, 4)\n",
      "(1600, 1)\n",
      "(400, 1)\n"
     ]
    }
   ],
   "source": [
    "xtrain,xtest,ytrain,ytest = train_test_split(x,y,test_size=0.2)\n",
    "print(xtrain.shape)\n",
    "print(xtest.shape)\n",
    "print(ytrain.shape)\n",
    "print(ytest.shape)"
   ]
  },
  {
   "cell_type": "code",
   "execution_count": 5,
   "id": "3fc4f206",
   "metadata": {},
   "outputs": [],
   "source": [
    "log = LogisticRegression()\n",
    "dtc = DecisionTreeClassifier()"
   ]
  },
  {
   "cell_type": "code",
   "execution_count": 6,
   "id": "4dffa957",
   "metadata": {},
   "outputs": [
    {
     "data": {
      "text/plain": [
       "LogisticRegression()"
      ]
     },
     "execution_count": 6,
     "metadata": {},
     "output_type": "execute_result"
    }
   ],
   "source": [
    "log.fit(xtrain,ytrain)\n"
   ]
  },
  {
   "cell_type": "code",
   "execution_count": 7,
   "id": "e13ff70e",
   "metadata": {},
   "outputs": [
    {
     "data": {
      "text/plain": [
       "DecisionTreeClassifier()"
      ]
     },
     "execution_count": 7,
     "metadata": {},
     "output_type": "execute_result"
    }
   ],
   "source": [
    "dtc.fit(xtrain,ytrain)"
   ]
  },
  {
   "cell_type": "code",
   "execution_count": 8,
   "id": "04d1ad35",
   "metadata": {},
   "outputs": [],
   "source": [
    "ypredlog = log.predict(xtest)"
   ]
  },
  {
   "cell_type": "code",
   "execution_count": 9,
   "id": "15004488",
   "metadata": {},
   "outputs": [],
   "source": [
    "ypreddtc = dtc.predict(xtest)"
   ]
  },
  {
   "cell_type": "markdown",
   "id": "325b1e0e",
   "metadata": {},
   "source": [
    "Confusion Matrix"
   ]
  },
  {
   "cell_type": "code",
   "execution_count": 10,
   "id": "33ec4faf",
   "metadata": {},
   "outputs": [
    {
     "data": {
      "text/plain": [
       "array([[334,  14],\n",
       "       [ 11,  41]], dtype=int64)"
      ]
     },
     "execution_count": 10,
     "metadata": {},
     "output_type": "execute_result"
    }
   ],
   "source": [
    "conflog = confusion_matrix(ytest,ypredlog)\n",
    "conflog"
   ]
  },
  {
   "cell_type": "code",
   "execution_count": 11,
   "id": "88ca2b47",
   "metadata": {},
   "outputs": [
    {
     "data": {
      "text/plain": [
       "array([[348,   0],\n",
       "       [  2,  50]], dtype=int64)"
      ]
     },
     "execution_count": 11,
     "metadata": {},
     "output_type": "execute_result"
    }
   ],
   "source": [
    "confdtc = confusion_matrix(ytest,ypreddtc)\n",
    "confdtc"
   ]
  },
  {
   "cell_type": "code",
   "execution_count": 12,
   "id": "a015b870",
   "metadata": {},
   "outputs": [
    {
     "data": {
      "text/plain": [
       "<AxesSubplot:title={'center':'Confusion Matrix of Logistic regression'}>"
      ]
     },
     "execution_count": 12,
     "metadata": {},
     "output_type": "execute_result"
    },
    {
     "data": {
      "image/png": "[encoded data removed]",
      "text/plain": [
       "<Figure size 432x288 with 2 Axes>"
      ]
     },
     "metadata": {
      "needs_background": "light"
     },
     "output_type": "display_data"
    }
   ],
   "source": [
    "import seaborn as sns\n",
    "plt.title(\"Confusion Matrix of Logistic regression\")\n",
    "sns.heatmap(conflog,annot=True)"
   ]
  },
  {
   "cell_type": "code",
   "execution_count": 13,
   "id": "c66446c3",
   "metadata": {},
   "outputs": [
    {
     "data": {
      "text/plain": [
       "<AxesSubplot:title={'center':'Confusion Matrix of Decision Tree'}>"
      ]
     },
     "execution_count": 13,
     "metadata": {},
     "output_type": "execute_result"
    },
    {
     "data": {
      "image/png": "[encoded data removed]",
      "text/plain": [
       "<Figure size 432x288 with 2 Axes>"
      ]
     },
     "metadata": {
      "needs_background": "light"
     },
     "output_type": "display_data"
    }
   ],
   "source": [
    "plt.title(\"Confusion Matrix of Decision Tree\")\n",
    "sns.heatmap(confdtc,annot=True)"
   ]
  },
  {
   "cell_type": "markdown",
   "id": "8706358e",
   "metadata": {},
   "source": [
    "Another Method"
   ]
  },
  {
   "cell_type": "code",
   "execution_count": 14,
   "id": "31317d62",
   "metadata": {},
   "outputs": [
    {
     "name": "stdout",
     "output_type": "stream",
     "text": [
      "Confusion Matrix of Logistic regression\n"
     ]
    },
    {
     "data": {
      "text/plain": [
       "<sklearn.metrics._plot.confusion_matrix.ConfusionMatrixDisplay at 0x1b31f534e50>"
      ]
     },
     "execution_count": 14,
     "metadata": {},
     "output_type": "execute_result"
    },
    {
     "data": {
      "image/png": "[encoded data removed]",
      "text/plain": [
       "<Figure size 432x288 with 2 Axes>"
      ]
     },
     "metadata": {
      "needs_background": "light"
     },
     "output_type": "display_data"
    }
   ],
   "source": [
    "print(\"Confusion Matrix of Logistic regression\")\n",
    "ConfusionMatrixDisplay(conflog).plot()"
   ]
  },
  {
   "cell_type": "code",
   "execution_count": 15,
   "id": "5342d7e0",
   "metadata": {},
   "outputs": [
    {
     "name": "stdout",
     "output_type": "stream",
     "text": [
      "Confusion Matrix of Decision Tree :-\n"
     ]
    },
    {
     "data": {
      "text/plain": [
       "<sklearn.metrics._plot.confusion_matrix.ConfusionMatrixDisplay at 0x1b31f79d190>"
      ]
     },
     "execution_count": 15,
     "metadata": {},
     "output_type": "execute_result"
    },
    {
     "data": {
      "image/png": "[encoded data removed]",
      "text/plain": [
       "<Figure size 432x288 with 2 Axes>"
      ]
     },
     "metadata": {
      "needs_background": "light"
     },
     "output_type": "display_data"
    }
   ],
   "source": [
    "print(\"Confusion Matrix of Decision Tree :-\")\n",
    "ConfusionMatrixDisplay(confdtc).plot()"
   ]
  },
  {
   "cell_type": "markdown",
   "id": "37370fd3",
   "metadata": {},
   "source": [
    "Precision"
   ]
  },
  {
   "cell_type": "code",
   "execution_count": 14,
   "id": "e8e2d41b",
   "metadata": {},
   "outputs": [
    {
     "data": {
      "text/plain": [
       "1.0"
      ]
     },
     "execution_count": 14,
     "metadata": {},
     "output_type": "execute_result"
    }
   ],
   "source": [
    "precision_score(ytest,ypreddtc)"
   ]
  },
  {
   "cell_type": "code",
   "execution_count": 15,
   "id": "b1289a15",
   "metadata": {},
   "outputs": [
    {
     "data": {
      "text/plain": [
       "array([0.99428571, 1.        ])"
      ]
     },
     "execution_count": 15,
     "metadata": {},
     "output_type": "execute_result"
    }
   ],
   "source": [
    "precision_score(ytest,ypreddtc,average=None)"
   ]
  },
  {
   "cell_type": "code",
   "execution_count": 16,
   "id": "2459b281",
   "metadata": {},
   "outputs": [
    {
     "data": {
      "text/plain": [
       "0.9950285714285715"
      ]
     },
     "execution_count": 16,
     "metadata": {},
     "output_type": "execute_result"
    }
   ],
   "source": [
    "precision_score(ytest,ypreddtc,average='weighted')"
   ]
  },
  {
   "cell_type": "markdown",
   "id": "3d3cd9c1",
   "metadata": {},
   "source": [
    "Recall"
   ]
  },
  {
   "cell_type": "code",
   "execution_count": 17,
   "id": "e2d0189b",
   "metadata": {},
   "outputs": [
    {
     "data": {
      "text/plain": [
       "0.9615384615384616"
      ]
     },
     "execution_count": 17,
     "metadata": {},
     "output_type": "execute_result"
    }
   ],
   "source": [
    "recall_score(ytest,ypreddtc)"
   ]
  },
  {
   "cell_type": "code",
   "execution_count": 18,
   "id": "91369dce",
   "metadata": {},
   "outputs": [
    {
     "data": {
      "text/plain": [
       "array([1.        , 0.96153846])"
      ]
     },
     "execution_count": 18,
     "metadata": {},
     "output_type": "execute_result"
    }
   ],
   "source": [
    "recall_score(ytest,ypreddtc,average=None)"
   ]
  },
  {
   "cell_type": "code",
   "execution_count": 19,
   "id": "57c8db0c",
   "metadata": {},
   "outputs": [
    {
     "data": {
      "text/plain": [
       "0.995"
      ]
     },
     "execution_count": 19,
     "metadata": {},
     "output_type": "execute_result"
    }
   ],
   "source": [
    "recall_score(ytest,ypreddtc,average='weighted')"
   ]
  },
  {
   "cell_type": "markdown",
   "id": "78ab99b3",
   "metadata": {},
   "source": [
    "F1 score"
   ]
  },
  {
   "cell_type": "code",
   "execution_count": 20,
   "id": "be904fc9",
   "metadata": {},
   "outputs": [
    {
     "data": {
      "text/plain": [
       "0.9803921568627451"
      ]
     },
     "execution_count": 20,
     "metadata": {},
     "output_type": "execute_result"
    }
   ],
   "source": [
    "f1_score(ytest,ypreddtc)"
   ]
  },
  {
   "cell_type": "code",
   "execution_count": 22,
   "id": "88cfacc4",
   "metadata": {},
   "outputs": [
    {
     "data": {
      "text/plain": [
       "array([0.99713467, 0.98039216])"
      ]
     },
     "execution_count": 22,
     "metadata": {},
     "output_type": "execute_result"
    }
   ],
   "source": [
    "f1_score(ytest,ypreddtc,average=None)"
   ]
  },
  {
   "cell_type": "code",
   "execution_count": 23,
   "id": "a59a45e4",
   "metadata": {},
   "outputs": [
    {
     "data": {
      "text/plain": [
       "0.9949581437159393"
      ]
     },
     "execution_count": 23,
     "metadata": {},
     "output_type": "execute_result"
    }
   ],
   "source": [
    "f1_score(ytest,ypreddtc,average='weighted')"
   ]
  },
  {
   "cell_type": "markdown",
   "id": "7aa7f623",
   "metadata": {},
   "source": [
    "confusion matrix report "
   ]
  },
  {
   "cell_type": "code",
   "execution_count": 33,
   "id": "8a0b51dd",
   "metadata": {},
   "outputs": [],
   "source": [
    "target_names = ['Income', 'Age', 'Loan', 'Loan to Income']\n",
    "cr = classification_report(ytest,ypreddtc)"
   ]
  },
  {
   "cell_type": "code",
   "execution_count": 34,
   "id": "62025f62",
   "metadata": {},
   "outputs": [
    {
     "data": {
      "text/plain": [
       "'              precision    recall  f1-score   support\\n\\n           0       0.99      1.00      1.00       348\\n           1       1.00      0.96      0.98        52\\n\\n    accuracy                           0.99       400\\n   macro avg       1.00      0.98      0.99       400\\nweighted avg       1.00      0.99      0.99       400\\n'"
      ]
     },
     "execution_count": 34,
     "metadata": {},
     "output_type": "execute_result"
    }
   ],
   "source": [
    "cr"
   ]
  },
  {
   "cell_type": "code",
   "execution_count": null,
   "id": "55cab980",
   "metadata": {},
   "outputs": [],
   "source": []
  }
 ],
 "metadata": {
  "kernelspec": {
   "display_name": "Python 3 (ipykernel)",
   "language": "python",
   "name": "python3"
  },
  "language_info": {
   "codemirror_mode": {
    "name": "ipython",
    "version": 3
   },
   "file_extension": ".py",
   "mimetype": "text/x-python",
   "name": "python",
   "nbconvert_exporter": "python",
   "pygments_lexer": "ipython3",
   "version": "3.9.12"
  }
 },
 "nbformat": 4,
 "nbformat_minor": 5
}
