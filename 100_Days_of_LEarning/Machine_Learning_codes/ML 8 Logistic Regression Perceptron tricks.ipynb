{
 "cells": [
  {
   "cell_type": "markdown",
   "id": "970e5f88",
   "metadata": {},
   "source": [
    "# Perceptron Tricks"
   ]
  },
  {
   "cell_type": "code",
   "execution_count": 54,
   "id": "61982fda",
   "metadata": {},
   "outputs": [],
   "source": [
    "import warnings\n",
    "warnings.filterwarnings(\"ignore\")\n",
    "import numpy as np\n",
    "import pandas as pd\n",
    "from sklearn.datasets import make_classification\n",
    "import matplotlib.pyplot as plt"
   ]
  },
  {
   "cell_type": "code",
   "execution_count": 55,
   "id": "6a785845",
   "metadata": {},
   "outputs": [
    {
     "name": "stdout",
     "output_type": "stream",
     "text": [
      "[[-0.94554006  2.36875459  2.67408296]\n",
      " [-0.96747467  2.42370489  2.73611627]\n",
      " [-1.10500397  2.76824149  3.12506304]\n",
      " [-1.15715533  2.89889042  3.27255239]\n",
      " [-1.36162515  3.41112553  3.85081372]\n",
      " [ 0.89902757 -2.25223212 -2.54254096]\n",
      " [-1.06489655  2.66776492  3.01163521]\n",
      " [-0.89106601  2.23228693  2.52002486]\n",
      " [-1.02677695  2.57226819  2.90382912]\n",
      " [-1.1348658   2.84305096  3.20951532]\n",
      " [ 1.20663706 -3.0228514  -3.41249173]\n",
      " [ 1.25930198 -3.15478686 -3.56143344]\n",
      " [ 0.81668124 -2.04593918 -2.3096572 ]\n",
      " [-1.11580917  2.79531055  3.15562125]\n",
      " [-0.88415945  2.21498469  2.50049239]\n",
      " [ 1.11370397 -2.79003664 -3.14966755]\n",
      " [ 1.23489842 -3.09365137 -3.49241769]\n",
      " [-1.01925334  2.55342014  2.88255159]\n",
      " [-0.95383732  2.38954079  2.69754847]\n",
      " [-1.02302973  2.56288072  2.89323161]\n",
      " [ 1.47021358 -3.68315985 -4.15791279]\n",
      " [-1.08210286  2.71086995  3.0602964 ]\n",
      " [-1.19815076  3.00159164  3.38849162]\n",
      " [-1.22884756  3.07849284  3.47530525]\n",
      " [-1.22331884  3.06464236  3.45966947]\n",
      " [ 1.45478801 -3.64451591 -4.11428771]\n",
      " [-1.02274123  2.56215795  2.89241569]\n",
      " [ 1.14790485 -2.87571623 -3.24639108]\n",
      " [ 0.99783572 -2.49976499 -2.82198039]\n",
      " [-1.05024491  2.63105982  2.97019888]\n",
      " [ 0.93620333 -2.34536436 -2.64767777]\n",
      " [-1.12161829  2.80986349  3.17205004]\n",
      " [-1.0601952   2.65598715  2.9983393 ]\n",
      " [-1.09841003  2.75172245  3.10641472]\n",
      " [-1.08600879  2.72065503  3.07134276]\n",
      " [ 0.53397065 -1.33769629 -1.51012303]\n",
      " [-1.28902816  3.22925649  3.64550208]\n",
      " [ 1.0000877  -2.50540663 -2.82834922]\n",
      " [-1.0018405   2.50979772  2.83330631]\n",
      " [-0.96639788  2.42100734  2.73307101]\n",
      " [-1.01928095  2.55348931  2.88262967]\n",
      " [ 0.77644141 -1.94513088 -2.19585489]\n",
      " [ 1.16178009 -2.91047629 -3.28563166]\n",
      " [ 0.59707835 -1.49579287 -1.68859799]\n",
      " [-0.88110398  2.20733017  2.49185122]\n",
      " [ 0.93558179 -2.34380727 -2.64591998]\n",
      " [ 0.54644149 -1.36893808 -1.54539183]\n",
      " [ 0.90962448 -2.27877935 -2.57251007]\n",
      " [-1.09511941  2.74347883  3.09710851]\n",
      " [ 1.26708939 -3.17429579 -3.58345704]\n",
      " [ 1.19431246 -2.99197597 -3.3776365 ]\n",
      " [ 0.68111739 -1.70632638 -1.9262689 ]\n",
      " [ 0.66331614 -1.66173093 -1.87592517]\n",
      " [ 0.73258697 -1.83526731 -2.0718301 ]\n",
      " [ 1.48531706 -3.72099689 -4.20062697]\n",
      " [ 1.12582834 -2.82041044 -3.18395648]\n",
      " [-1.05078621  2.63241589  2.97172975]\n",
      " [-1.0197728   2.55472148  2.88402067]\n",
      " [ 0.58683005 -1.47011896 -1.65961476]\n",
      " [ 1.28190449 -3.21141036 -3.62535562]\n",
      " [ 1.09060137 -2.73216029 -3.08433104]\n",
      " [-0.94238588  2.36085279  2.66516264]\n",
      " [ 1.10685079 -2.77286812 -3.13028604]\n",
      " [ 0.89931466 -2.25295133 -2.54335286]\n",
      " [ 0.70373046 -1.76297636 -1.99022097]\n",
      " [ 1.34496514 -3.3693891  -3.80369754]\n",
      " [ 1.02969306 -2.57957358 -2.91207617]\n",
      " [ 0.93457513 -2.34128541 -2.64307305]\n",
      " [-0.9556607   2.39410869  2.70270517]\n",
      " [-1.08772161  2.72494595  3.07618678]\n",
      " [ 1.02361326 -2.56434257 -2.8948819 ]\n",
      " [ 0.75136454 -1.88230863 -2.12493496]\n",
      " [-0.90503635  2.26728524  2.55953439]\n",
      " [ 1.0789358  -2.70293585 -3.05133962]\n",
      " [ 0.93695038 -2.34723585 -2.6497905 ]\n",
      " [-1.1184025   2.80180734  3.16295546]\n",
      " [-1.0308037   2.58235595  2.91521717]\n",
      " [-1.04963435  2.62953025  2.96847216]\n",
      " [-1.12029882  2.80655797  3.16831844]\n",
      " [-1.09629132  2.74641469  3.1004228 ]\n",
      " [-0.99053955  2.48148674  2.8013461 ]\n",
      " [ 0.91443777 -2.29083754 -2.58612255]\n",
      " [ 1.1452605  -2.86909163 -3.23891259]\n",
      " [-1.06905181  2.67817462  3.0233867 ]\n",
      " [ 1.05715399 -2.64836837 -2.98973847]\n",
      " [ 1.55872434 -3.90489584 -4.40823017]\n",
      " [-1.1536271   2.89005154  3.26257419]\n",
      " [-1.18783021  2.97573671  3.35930403]\n",
      " [-0.94875408  2.37680631  2.68317254]\n",
      " [-1.13851786  2.85220006  3.21984373]\n",
      " [-1.10581079  2.77026275  3.12734483]\n",
      " [ 0.67777198 -1.6979455  -1.91680774]\n",
      " [ 1.11693053 -2.79811977 -3.15879257]\n",
      " [ 0.99784013 -2.49977605 -2.82199287]\n",
      " [ 0.86726903 -2.17267103 -2.45272457]\n",
      " [-1.14140383  2.85942996  3.22800554]\n",
      " [ 0.98236732 -2.46101378 -2.77823421]\n",
      " [-0.94954647  2.37879139  2.6854135 ]\n",
      " [ 0.97983768 -2.45467655 -2.77108011]\n",
      " [ 0.78850631 -1.97535569 -2.22997563]\n",
      " [ 1.1531562  -2.88887183 -3.26124242]]\n",
      "\n",
      "\n",
      "[1 1 1 1 1 0 1 1 1 0 0 0 0 1 1 0 0 1 1 1 0 1 1 1 1 0 1 0 0 1 0 1 1 1 1 0 1\n",
      " 0 1 1 1 0 0 0 1 0 0 0 1 0 0 0 0 0 0 0 1 1 0 0 0 1 0 0 0 0 0 0 1 1 0 0 1 0\n",
      " 0 1 1 1 1 1 1 0 0 1 0 0 1 1 1 1 1 0 0 0 0 1 0 1 0 0 0]\n"
     ]
    }
   ],
   "source": [
    "x,y = make_classification(n_samples=101,n_features=3,n_informative=1,n_classes=2,n_clusters_per_class=1,random_state=42,class_sep=3)\n",
    "print(x)\n",
    "print(\"\\n\")\n",
    "print(y)"
   ]
  },
  {
   "cell_type": "code",
   "execution_count": 56,
   "id": "a5453bbf",
   "metadata": {},
   "outputs": [
    {
     "data": {
      "text/plain": [
       "<matplotlib.collections.PathCollection at 0x180b68360d0>"
      ]
     },
     "execution_count": 56,
     "metadata": {},
     "output_type": "execute_result"
    },
    {
     "data": {
      "image/png": "[encoded data removed]",
      "text/plain": [
       "<Figure size 432x288 with 1 Axes>"
      ]
     },
     "metadata": {
      "needs_background": "light"
     },
     "output_type": "display_data"
    }
   ],
   "source": [
    "plt.scatter(x[:,0],x[:,1],c=y,cmap='winter',s=100)"
   ]
  },
  {
   "cell_type": "code",
   "execution_count": 57,
   "id": "7d9019cb",
   "metadata": {},
   "outputs": [],
   "source": [
    "def perceptron(x,y):\n",
    "    x = np.insert(x,0,1,axis=1)\n",
    "    weights = np.ones(x.shape[1])\n",
    "    lr = 0.1\n",
    "    for i in range(1000):\n",
    "        j = np.random.randint(0,100)\n",
    "        yhat = step(np.dot(x[j],weights))\n",
    "        weights = weights+lr*(y[j]-yhat)*x[j]\n",
    "        \n",
    "        return weights[0],weights[1:]\n",
    "def step(z):\n",
    "    return 1 if z>0 else 0\n",
    "\n",
    "\n",
    "intercept_ , coef_ = perceptron(x,y)"
   ]
  },
  {
   "cell_type": "code",
   "execution_count": 58,
   "id": "585b6b40",
   "metadata": {},
   "outputs": [
    {
     "name": "stdout",
     "output_type": "stream",
     "text": [
      "1.0\n"
     ]
    }
   ],
   "source": [
    "print(intercept_)"
   ]
  },
  {
   "cell_type": "code",
   "execution_count": 59,
   "id": "979ba197",
   "metadata": {},
   "outputs": [
    {
     "name": "stdout",
     "output_type": "stream",
     "text": [
      "[1. 1. 1.]\n"
     ]
    }
   ],
   "source": [
    "print(coef_)"
   ]
  },
  {
   "cell_type": "code",
   "execution_count": 60,
   "id": "6933e63a",
   "metadata": {},
   "outputs": [
    {
     "name": "stdout",
     "output_type": "stream",
     "text": [
      "-1.0\n",
      "-1.0\n"
     ]
    }
   ],
   "source": [
    "m = -(coef_[0]/coef_[1])\n",
    "b = -(intercept_/coef_[1])\n",
    "print(m)\n",
    "print(b)"
   ]
  },
  {
   "cell_type": "code",
   "execution_count": 61,
   "id": "adc45e29",
   "metadata": {},
   "outputs": [
    {
     "name": "stdout",
     "output_type": "stream",
     "text": [
      "[ 2.          1.93939394  1.87878788  1.81818182  1.75757576  1.6969697\n",
      "  1.63636364  1.57575758  1.51515152  1.45454545  1.39393939  1.33333333\n",
      "  1.27272727  1.21212121  1.15151515  1.09090909  1.03030303  0.96969697\n",
      "  0.90909091  0.84848485  0.78787879  0.72727273  0.66666667  0.60606061\n",
      "  0.54545455  0.48484848  0.42424242  0.36363636  0.3030303   0.24242424\n",
      "  0.18181818  0.12121212  0.06060606  0.         -0.06060606 -0.12121212\n",
      " -0.18181818 -0.24242424 -0.3030303  -0.36363636 -0.42424242 -0.48484848\n",
      " -0.54545455 -0.60606061 -0.66666667 -0.72727273 -0.78787879 -0.84848485\n",
      " -0.90909091 -0.96969697 -1.03030303 -1.09090909 -1.15151515 -1.21212121\n",
      " -1.27272727 -1.33333333 -1.39393939 -1.45454545 -1.51515152 -1.57575758\n",
      " -1.63636364 -1.6969697  -1.75757576 -1.81818182 -1.87878788 -1.93939394\n",
      " -2.         -2.06060606 -2.12121212 -2.18181818 -2.24242424 -2.3030303\n",
      " -2.36363636 -2.42424242 -2.48484848 -2.54545455 -2.60606061 -2.66666667\n",
      " -2.72727273 -2.78787879 -2.84848485 -2.90909091 -2.96969697 -3.03030303\n",
      " -3.09090909 -3.15151515 -3.21212121 -3.27272727 -3.33333333 -3.39393939\n",
      " -3.45454545 -3.51515152 -3.57575758 -3.63636364 -3.6969697  -3.75757576\n",
      " -3.81818182 -3.87878788 -3.93939394 -4.        ]\n"
     ]
    }
   ],
   "source": [
    "xinput=np.linspace(-3,3,100)\n",
    "yinput = m*xinput+b\n",
    "\n",
    "print(yinput)"
   ]
  },
  {
   "cell_type": "code",
   "execution_count": 62,
   "id": "694a0710",
   "metadata": {},
   "outputs": [
    {
     "data": {
      "text/plain": [
       "<matplotlib.collections.PathCollection at 0x180b68a0580>"
      ]
     },
     "execution_count": 62,
     "metadata": {},
     "output_type": "execute_result"
    },
    {
     "data": {
      "image/png": "[encoded data removed]",
      "text/plain": [
       "<Figure size 432x288 with 1 Axes>"
      ]
     },
     "metadata": {
      "needs_background": "light"
     },
     "output_type": "display_data"
    }
   ],
   "source": [
    "plt.plot(xinput,yinput,color='red')\n",
    "plt.scatter(x[:,0],x[:,1],c=y,cmap='winter',s = 100)\n"
   ]
  },
  {
   "cell_type": "markdown",
   "id": "fcc8b907",
   "metadata": {},
   "source": [
    "# Sigmoid Functions"
   ]
  },
  {
   "cell_type": "code",
   "execution_count": 63,
   "id": "e885537b",
   "metadata": {},
   "outputs": [],
   "source": [
    "def percep(x,y):\n",
    "    x = np.insert(x,0,1,axis=1)\n",
    "    weights = np.ones(x.shape[1])\n",
    "    lr = 0.1\n",
    "    for i in range(1000):\n",
    "        j = np.random.randint(0,100)\n",
    "        yhat = sigmoid(np.dot(x[j],weights))\n",
    "        weights = weights+lr*(y[j]-yhat)*x[j]\n",
    "        \n",
    "        return weights[0],weights[1:]\n",
    "\n",
    "def sigmoid(z):\n",
    "    return 1/(1+np.exp(-z))\n",
    "\n",
    "\n",
    "intercept , coef = percep(x,y)"
   ]
  },
  {
   "cell_type": "code",
   "execution_count": 64,
   "id": "5aeefd0d",
   "metadata": {},
   "outputs": [
    {
     "name": "stdout",
     "output_type": "stream",
     "text": [
      "0.9976475103301958\n",
      "[0.99743437 1.00642738 1.00725586]\n"
     ]
    }
   ],
   "source": [
    "print(intercept)\n",
    "print(coef)"
   ]
  },
  {
   "cell_type": "code",
   "execution_count": 65,
   "id": "9062a92c",
   "metadata": {},
   "outputs": [
    {
     "data": {
      "text/plain": [
       "0.997434371548825"
      ]
     },
     "execution_count": 65,
     "metadata": {},
     "output_type": "execute_result"
    }
   ],
   "source": [
    "coef[0]"
   ]
  },
  {
   "cell_type": "code",
   "execution_count": 82,
   "id": "fe77bce6",
   "metadata": {},
   "outputs": [
    {
     "name": "stdout",
     "output_type": "stream",
     "text": [
      "-1.0\n",
      "-1.0\n"
     ]
    }
   ],
   "source": [
    "ms = -(coef_[0]/coef_[1])\n",
    "bs = -(intercept_/coef_[1])\n",
    "print(ms)\n",
    "print(bs)"
   ]
  },
  {
   "cell_type": "code",
   "execution_count": 83,
   "id": "4cda82be",
   "metadata": {},
   "outputs": [
    {
     "name": "stdout",
     "output_type": "stream",
     "text": [
      "[ 2.          1.93939394  1.87878788  1.81818182  1.75757576  1.6969697\n",
      "  1.63636364  1.57575758  1.51515152  1.45454545  1.39393939  1.33333333\n",
      "  1.27272727  1.21212121  1.15151515  1.09090909  1.03030303  0.96969697\n",
      "  0.90909091  0.84848485  0.78787879  0.72727273  0.66666667  0.60606061\n",
      "  0.54545455  0.48484848  0.42424242  0.36363636  0.3030303   0.24242424\n",
      "  0.18181818  0.12121212  0.06060606  0.         -0.06060606 -0.12121212\n",
      " -0.18181818 -0.24242424 -0.3030303  -0.36363636 -0.42424242 -0.48484848\n",
      " -0.54545455 -0.60606061 -0.66666667 -0.72727273 -0.78787879 -0.84848485\n",
      " -0.90909091 -0.96969697 -1.03030303 -1.09090909 -1.15151515 -1.21212121\n",
      " -1.27272727 -1.33333333 -1.39393939 -1.45454545 -1.51515152 -1.57575758\n",
      " -1.63636364 -1.6969697  -1.75757576 -1.81818182 -1.87878788 -1.93939394\n",
      " -2.         -2.06060606 -2.12121212 -2.18181818 -2.24242424 -2.3030303\n",
      " -2.36363636 -2.42424242 -2.48484848 -2.54545455 -2.60606061 -2.66666667\n",
      " -2.72727273 -2.78787879 -2.84848485 -2.90909091 -2.96969697 -3.03030303\n",
      " -3.09090909 -3.15151515 -3.21212121 -3.27272727 -3.33333333 -3.39393939\n",
      " -3.45454545 -3.51515152 -3.57575758 -3.63636364 -3.6969697  -3.75757576\n",
      " -3.81818182 -3.87878788 -3.93939394 -4.        ]\n"
     ]
    }
   ],
   "source": [
    "xinputs=np.linspace(-3,3,100)\n",
    "yinputs = ms*xinput+bs\n",
    "\n",
    "print(yinputs)"
   ]
  },
  {
   "cell_type": "code",
   "execution_count": 84,
   "id": "cb7c6607",
   "metadata": {},
   "outputs": [
    {
     "data": {
      "image/png": "[encoded data removed]",
      "text/plain": [
       "<Figure size 432x288 with 1 Axes>"
      ]
     },
     "metadata": {
      "needs_background": "light"
     },
     "output_type": "display_data"
    }
   ],
   "source": [
    "plt.plot(xinput,yinput,color='red')\n",
    "plt.plot(xinputs,yinputs,color='black')\n",
    "plt.scatter(x[:,0],x[:,1],c=y,cmap='winter',s = 100)\n",
    "plt.show()"
   ]
  },
  {
   "cell_type": "markdown",
   "id": "60839824",
   "metadata": {},
   "source": [
    "# SkLearn"
   ]
  },
  {
   "cell_type": "code",
   "execution_count": 69,
   "id": "ed67f854",
   "metadata": {},
   "outputs": [
    {
     "data": {
      "text/plain": [
       "LogisticRegression()"
      ]
     },
     "execution_count": 69,
     "metadata": {},
     "output_type": "execute_result"
    }
   ],
   "source": [
    "from sklearn.linear_model import LogisticRegression\n",
    "log = LogisticRegression()\n",
    "log.fit(x,y)\n"
   ]
  },
  {
   "cell_type": "code",
   "execution_count": 86,
   "id": "2bb1cebe",
   "metadata": {},
   "outputs": [],
   "source": [
    "intercept1 = log.intercept_[0]\n",
    "coef1 = log.coef_\n",
    "coef10 = coef1[0][0]\n",
    "coef11= coef1[0][1]"
   ]
  },
  {
   "cell_type": "code",
   "execution_count": 87,
   "id": "28f9305e",
   "metadata": {},
   "outputs": [
    {
     "name": "stdout",
     "output_type": "stream",
     "text": [
      "-1.2398092215086824\n",
      "[[-0.30899996  0.77410265  0.87388315]]\n",
      "-0.3089999575664608\n",
      "0.7741026549762059\n"
     ]
    }
   ],
   "source": [
    "print(intercept1)\n",
    "print(coef1)\n",
    "print(coef10)\n",
    "print(coef11)"
   ]
  },
  {
   "cell_type": "code",
   "execution_count": 88,
   "id": "01a4ead0",
   "metadata": {},
   "outputs": [
    {
     "name": "stdout",
     "output_type": "stream",
     "text": [
      "0.39917180955277665\n",
      "1.6016082796496691\n"
     ]
    }
   ],
   "source": [
    "msk = -(coef10/coef11)\n",
    "bsk = -(intercept1/coef11)\n",
    "print(msk)\n",
    "print(bsk)"
   ]
  },
  {
   "cell_type": "code",
   "execution_count": 89,
   "id": "55aa968d",
   "metadata": {},
   "outputs": [
    {
     "name": "stdout",
     "output_type": "stream",
     "text": [
      "[0.40409285 0.42828508 0.45247731 0.47666954 0.50086177 0.52505401\n",
      " 0.54924624 0.57343847 0.5976307  0.62182293 0.64601516 0.67020739\n",
      " 0.69439962 0.71859185 0.74278408 0.76697631 0.79116855 0.81536078\n",
      " 0.83955301 0.86374524 0.88793747 0.9121297  0.93632193 0.96051416\n",
      " 0.98470639 1.00889862 1.03309085 1.05728308 1.08147532 1.10566755\n",
      " 1.12985978 1.15405201 1.17824424 1.20243647 1.2266287  1.25082093\n",
      " 1.27501316 1.29920539 1.32339762 1.34758986 1.37178209 1.39597432\n",
      " 1.42016655 1.44435878 1.46855101 1.49274324 1.51693547 1.5411277\n",
      " 1.56531993 1.58951216 1.6137044  1.63789663 1.66208886 1.68628109\n",
      " 1.71047332 1.73466555 1.75885778 1.78305001 1.80724224 1.83143447\n",
      " 1.8556267  1.87981893 1.90401117 1.9282034  1.95239563 1.97658786\n",
      " 2.00078009 2.02497232 2.04916455 2.07335678 2.09754901 2.12174124\n",
      " 2.14593347 2.17012571 2.19431794 2.21851017 2.2427024  2.26689463\n",
      " 2.29108686 2.31527909 2.33947132 2.36366355 2.38785578 2.41204801\n",
      " 2.43624025 2.46043248 2.48462471 2.50881694 2.53300917 2.5572014\n",
      " 2.58139363 2.60558586 2.62977809 2.65397032 2.67816255 2.70235478\n",
      " 2.72654702 2.75073925 2.77493148 2.79912371]\n"
     ]
    }
   ],
   "source": [
    "xinputsk=np.linspace(-3,3,100)\n",
    "yinputsk = msk*xinput+bsk\n",
    "\n",
    "print(yinputsk)"
   ]
  },
  {
   "cell_type": "code",
   "execution_count": 95,
   "id": "aac7bfcb",
   "metadata": {},
   "outputs": [
    {
     "data": {
      "image/png": "[encoded data removed]",
      "text/plain": [
       "<Figure size 576x576 with 1 Axes>"
      ]
     },
     "metadata": {
      "needs_background": "light"
     },
     "output_type": "display_data"
    },
    {
     "data": {
      "text/plain": [
       "<Figure size 432x288 with 0 Axes>"
      ]
     },
     "metadata": {},
     "output_type": "display_data"
    }
   ],
   "source": [
    "plt.figure(figsize=(8,8))\n",
    "plt.plot(xinput,yinput,color='red',label = 'Perceptron')\n",
    "plt.plot(xinputs,yinputs,color='black',label='Sigmoid')\n",
    "plt.plot(xinputsk,yinputsk,color='green',label='SkLearn')\n",
    "plt.scatter(x[:,0],x[:,1],c=y,cmap='winter',s = 100)\n",
    "plt.legend()\n",
    "plt.show()\n",
    "plt.savefig('sigmoid curve.png')"
   ]
  },
  {
   "cell_type": "code",
   "execution_count": null,
   "id": "1fdf91eb",
   "metadata": {},
   "outputs": [],
   "source": []
  }
 ],
 "metadata": {
  "kernelspec": {
   "display_name": "Python 3 (ipykernel)",
   "language": "python",
   "name": "python3"
  },
  "language_info": {
   "codemirror_mode": {
    "name": "ipython",
    "version": 3
   },
   "file_extension": ".py",
   "mimetype": "text/x-python",
   "name": "python",
   "nbconvert_exporter": "python",
   "pygments_lexer": "ipython3",
   "version": "3.9.12"
  }
 },
 "nbformat": 4,
 "nbformat_minor": 5
}
