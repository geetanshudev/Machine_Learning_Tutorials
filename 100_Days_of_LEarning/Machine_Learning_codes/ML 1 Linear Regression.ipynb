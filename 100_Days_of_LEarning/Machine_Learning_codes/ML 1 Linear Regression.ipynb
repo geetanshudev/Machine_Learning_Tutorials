{
 "cells": [
  {
   "cell_type": "code",
   "execution_count": 172,
   "id": "cc4a5a7d",
   "metadata": {},
   "outputs": [],
   "source": [
    "import warnings\n",
    "warnings.filterwarnings('ignore')\n",
    "import numpy as np\n",
    "import pandas as pd \n",
    "from sklearn.model_selection import train_test_split"
   ]
  },
  {
   "cell_type": "code",
   "execution_count": 173,
   "id": "462ae74e",
   "metadata": {},
   "outputs": [
    {
     "data": {
      "text/html": [
       "<div>\n",
       "<style scoped>\n",
       "    .dataframe tbody tr th:only-of-type {\n",
       "        vertical-align: middle;\n",
       "    }\n",
       "\n",
       "    .dataframe tbody tr th {\n",
       "        vertical-align: top;\n",
       "    }\n",
       "\n",
       "    .dataframe thead th {\n",
       "        text-align: right;\n",
       "    }\n",
       "</style>\n",
       "<table border=\"1\" class=\"dataframe\">\n",
       "  <thead>\n",
       "    <tr style=\"text-align: right;\">\n",
       "      <th></th>\n",
       "      <th>CGPA</th>\n",
       "      <th>IQ</th>\n",
       "    </tr>\n",
       "  </thead>\n",
       "  <tbody>\n",
       "    <tr>\n",
       "      <th>25</th>\n",
       "      <td>5.0</td>\n",
       "      <td>91</td>\n",
       "    </tr>\n",
       "    <tr>\n",
       "      <th>20</th>\n",
       "      <td>6.6</td>\n",
       "      <td>120</td>\n",
       "    </tr>\n",
       "    <tr>\n",
       "      <th>40</th>\n",
       "      <td>4.9</td>\n",
       "      <td>134</td>\n",
       "    </tr>\n",
       "  </tbody>\n",
       "</table>\n",
       "</div>"
      ],
      "text/plain": [
       "    CGPA   IQ\n",
       "25   5.0   91\n",
       "20   6.6  120\n",
       "40   4.9  134"
      ]
     },
     "execution_count": 173,
     "metadata": {},
     "output_type": "execute_result"
    }
   ],
   "source": [
    "data = pd.read_csv(\"Placement.csv\",usecols=['CGPA','IQ'])\n",
    "data.sample(3)"
   ]
  },
  {
   "cell_type": "code",
   "execution_count": 174,
   "id": "c6de8109",
   "metadata": {},
   "outputs": [],
   "source": [
    "x=data.iloc[:,0:1].values\n",
    "y=data.iloc[:,1:2].values"
   ]
  },
  {
   "cell_type": "code",
   "execution_count": 175,
   "id": "352be244",
   "metadata": {},
   "outputs": [
    {
     "name": "stdout",
     "output_type": "stream",
     "text": [
      "[[6.8]\n",
      " [5.9]]\n",
      "[[123]\n",
      " [106]]\n"
     ]
    }
   ],
   "source": [
    "print(x[0:2])\n",
    "print(y[0:2])"
   ]
  },
  {
   "cell_type": "code",
   "execution_count": 43,
   "id": "7ef1ac37",
   "metadata": {},
   "outputs": [
    {
     "data": {
      "text/plain": [
       "(100, 2)"
      ]
     },
     "execution_count": 43,
     "metadata": {},
     "output_type": "execute_result"
    }
   ],
   "source": [
    "data.shape"
   ]
  },
  {
   "cell_type": "code",
   "execution_count": 44,
   "id": "022c0fbb",
   "metadata": {},
   "outputs": [
    {
     "name": "stdout",
     "output_type": "stream",
     "text": [
      "(90, 1)\n",
      "(10, 1)\n",
      "(90, 1)\n",
      "(10, 1)\n"
     ]
    }
   ],
   "source": [
    "xtrain,xtest,ytrain,ytest = train_test_split(x,y,test_size=0.1)\n",
    "print(xtrain.shape)\n",
    "print(xtest.shape)\n",
    "print(ytrain.shape)\n",
    "print(ytest.shape)"
   ]
  },
  {
   "cell_type": "markdown",
   "id": "42a74fbb",
   "metadata": {},
   "source": [
    "# With Sklearn "
   ]
  },
  {
   "cell_type": "code",
   "execution_count": 148,
   "id": "0bef0ca0",
   "metadata": {},
   "outputs": [
    {
     "name": "stdout",
     "output_type": "stream",
     "text": [
      "Mean Absolute Error =  34.459478743489335\n",
      "Mean Squared Error =  1785.5465936060555\n",
      "R2 score error =  -0.20452966459298394\n"
     ]
    }
   ],
   "source": [
    "from sklearn.linear_model import LinearRegression\n",
    "from sklearn.metrics import mean_absolute_error\n",
    "from sklearn.metrics import mean_squared_error\n",
    "from sklearn.metrics import r2_score\n",
    "lr = LinearRegression()\n",
    "lr.fit(xtrain,ytrain)\n",
    "ypred = lr.predict(xtest)\n",
    "MAE = mean_absolute_error(ytest,ypred)\n",
    "print(\"Mean Absolute Error = \",MAE)\n",
    "MSE = mean_squared_error(ytest,ypred)\n",
    "print(\"Mean Squared Error = \",MSE)\n",
    "R2 = r2_score(ytest,ypred)\n",
    "print(\"R2 score error = \",R2)"
   ]
  },
  {
   "cell_type": "code",
   "execution_count": 149,
   "id": "83168c5d",
   "metadata": {},
   "outputs": [
    {
     "name": "stdout",
     "output_type": "stream",
     "text": [
      "M = [[-2.9233671]] B =  [143.03012165]\n"
     ]
    }
   ],
   "source": [
    "m = lr.coef_\n",
    "b = lr.intercept_\n",
    "\n",
    "print(\"M =\",m,\"B = \",b)"
   ]
  },
  {
   "cell_type": "code",
   "execution_count": 150,
   "id": "b558dced",
   "metadata": {},
   "outputs": [
    {
     "name": "stdout",
     "output_type": "stream",
     "text": [
      "[[123.15122536]]\n"
     ]
    }
   ],
   "source": [
    "xt = 6.8\n",
    "yt = m*xt+b\n",
    "print(yt)"
   ]
  },
  {
   "cell_type": "code",
   "execution_count": 151,
   "id": "1952f511",
   "metadata": {},
   "outputs": [
    {
     "data": {
      "text/plain": [
       "90"
      ]
     },
     "execution_count": 151,
     "metadata": {},
     "output_type": "execute_result"
    }
   ],
   "source": [
    "xtrain.shape[0]"
   ]
  },
  {
   "cell_type": "code",
   "execution_count": 152,
   "id": "d4d2f9ed",
   "metadata": {},
   "outputs": [
    {
     "data": {
      "text/plain": [
       "array([[123.73589878],\n",
       "       [129.58263299],\n",
       "       [125.48991904],\n",
       "       [122.56655194],\n",
       "       [124.61290891],\n",
       "       [125.48991904],\n",
       "       [127.82861273],\n",
       "       [125.19758233],\n",
       "       [125.48991904],\n",
       "       [131.62898996]])"
      ]
     },
     "execution_count": 152,
     "metadata": {},
     "output_type": "execute_result"
    }
   ],
   "source": [
    "ypred"
   ]
  },
  {
   "cell_type": "code",
   "execution_count": 153,
   "id": "ce530273",
   "metadata": {},
   "outputs": [
    {
     "data": {
      "image/png": "[encoded data removed]",
      "text/plain": [
       "<Figure size 432x288 with 1 Axes>"
      ]
     },
     "metadata": {
      "needs_background": "light"
     },
     "output_type": "display_data"
    }
   ],
   "source": [
    "import matplotlib.pyplot as plt\n",
    "plt.scatter(xtrain,ytrain)\n",
    "plt.plot(xtest,ypred)\n",
    "plt.show()"
   ]
  },
  {
   "cell_type": "markdown",
   "id": "f6f6e64e",
   "metadata": {},
   "source": [
    "# Without Sklearn "
   ]
  },
  {
   "cell_type": "code",
   "execution_count": 160,
   "id": "f7986632",
   "metadata": {},
   "outputs": [],
   "source": [
    "class linearregression:\n",
    "    def __init__(self):\n",
    "        self.m = None\n",
    "        self.b = None\n",
    "    def fit(self,xtrain,ytrain):\n",
    "        num = 0\n",
    "        den = 0\n",
    "        for i in range(xtrain.shape[0]):\n",
    "            num = num+((xtrain[i]-xtrain.mean())*(ytrain[i]-ytrain.mean()))\n",
    "            den = den+((xtrain[i]-xtrain.mean())*(xtrain[i]-xtrain.mean()))\n",
    "        self.m = num/den\n",
    "        self.b = ytrain.mean()-(self.m*xtrain.mean())\n",
    "        print(\"value of m = \",self.m)\n",
    "        print(\"value of b = \",self.b)\n",
    "        \n",
    "        \n",
    "    def predicts(self,xtst):\n",
    "        for i in range(xtest.shape[0]):\n",
    "            print((self.m*xtest[i])+self.b)\n",
    "        \n",
    "        \n",
    "    def predict(self,xts):\n",
    "        return (self.m*xts)+self.b\n",
    "                       "
   ]
  },
  {
   "cell_type": "code",
   "execution_count": 161,
   "id": "40633c85",
   "metadata": {},
   "outputs": [],
   "source": [
    "lr = linearregression()"
   ]
  },
  {
   "cell_type": "code",
   "execution_count": 162,
   "id": "1913e3db",
   "metadata": {},
   "outputs": [
    {
     "name": "stdout",
     "output_type": "stream",
     "text": [
      "value of m =  [-2.9233671]\n",
      "value of b =  [143.03012165]\n"
     ]
    }
   ],
   "source": [
    "lr.fit(xtrain,ytrain)"
   ]
  },
  {
   "cell_type": "code",
   "execution_count": 163,
   "id": "259d0aa9",
   "metadata": {},
   "outputs": [
    {
     "data": {
      "text/plain": [
       "array([123.15122536])"
      ]
     },
     "execution_count": 163,
     "metadata": {},
     "output_type": "execute_result"
    }
   ],
   "source": [
    "lr.predict([6.8])"
   ]
  },
  {
   "cell_type": "code",
   "execution_count": 164,
   "id": "edec4526",
   "metadata": {},
   "outputs": [
    {
     "name": "stdout",
     "output_type": "stream",
     "text": [
      "[123.73589878]\n",
      "[129.58263299]\n",
      "[125.48991904]\n",
      "[122.56655194]\n",
      "[124.61290891]\n",
      "[125.48991904]\n",
      "[127.82861273]\n",
      "[125.19758233]\n",
      "[125.48991904]\n",
      "[131.62898996]\n",
      "None\n"
     ]
    }
   ],
   "source": [
    "ypred1 = lr.predicts(xtest)\n",
    "print(ypred1)"
   ]
  },
  {
   "cell_type": "code",
   "execution_count": 171,
   "id": "faf4d785",
   "metadata": {},
   "outputs": [
    {
     "ename": "TypeError",
     "evalue": "'NoneType' object is not subscriptable",
     "output_type": "error",
     "traceback": [
      "\u001b[1;31m---------------------------------------------------------------------------\u001b[0m",
      "\u001b[1;31mTypeError\u001b[0m                                 Traceback (most recent call last)",
      "Input \u001b[1;32mIn [171]\u001b[0m, in \u001b[0;36m<cell line: 3>\u001b[1;34m()\u001b[0m\n\u001b[0;32m      1\u001b[0m \u001b[38;5;28;01mimport\u001b[39;00m \u001b[38;5;21;01mmatplotlib\u001b[39;00m\u001b[38;5;21;01m.\u001b[39;00m\u001b[38;5;21;01mpyplot\u001b[39;00m \u001b[38;5;28;01mas\u001b[39;00m \u001b[38;5;21;01mplt\u001b[39;00m \n\u001b[0;32m      2\u001b[0m plt\u001b[38;5;241m.\u001b[39mscatter(xtrain,ytrain)\n\u001b[1;32m----> 3\u001b[0m plt\u001b[38;5;241m.\u001b[39mplot(xtest,\u001b[43mypred1\u001b[49m\u001b[43m[\u001b[49m\u001b[38;5;241;43m0\u001b[39;49m\u001b[43m:\u001b[49m\u001b[38;5;241;43m7\u001b[39;49m\u001b[43m]\u001b[49m)\n\u001b[0;32m      4\u001b[0m plt\u001b[38;5;241m.\u001b[39mshow()\n",
      "\u001b[1;31mTypeError\u001b[0m: 'NoneType' object is not subscriptable"
     ]
    },
    {
     "data": {
      "image/png": "[encoded data removed]",
      "text/plain": [
       "<Figure size 432x288 with 1 Axes>"
      ]
     },
     "metadata": {
      "needs_background": "light"
     },
     "output_type": "display_data"
    }
   ],
   "source": [
    "import matplotlib.pyplot as plt \n",
    "plt.scatter(xtrain,ytrain)\n",
    "plt.plot(xtest,ypred1[0:7])\n",
    "plt.show()"
   ]
  },
  {
   "cell_type": "code",
   "execution_count": null,
   "id": "96cccdea",
   "metadata": {},
   "outputs": [],
   "source": []
  }
 ],
 "metadata": {
  "kernelspec": {
   "display_name": "Python 3 (ipykernel)",
   "language": "python",
   "name": "python3"
  },
  "language_info": {
   "codemirror_mode": {
    "name": "ipython",
    "version": 3
   },
   "file_extension": ".py",
   "mimetype": "text/x-python",
   "name": "python",
   "nbconvert_exporter": "python",
   "pygments_lexer": "ipython3",
   "version": "3.9.12"
  }
 },
 "nbformat": 4,
 "nbformat_minor": 5
}
