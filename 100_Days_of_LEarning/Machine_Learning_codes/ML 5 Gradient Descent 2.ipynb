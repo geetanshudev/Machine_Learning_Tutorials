{
 "cells": [
  {
   "cell_type": "code",
   "execution_count": 196,
   "id": "da6af01a",
   "metadata": {},
   "outputs": [],
   "source": [
    "import warnings\n",
    "warnings.filterwarnings(\"ignore\")\n",
    "import numpy as np\n",
    "import pandas as pd\n",
    "from sklearn.datasets import load_diabetes\n",
    "from sklearn.model_selection import train_test_split\n",
    "import matplotlib.pyplot as plt\n",
    "import plotly.express as px\n",
    "from sklearn.linear_model import LinearRegression\n",
    "from sklearn.datasets import make_regression\n",
    "from sklearn.metrics import r2_score\n",
    "import time"
   ]
  },
  {
   "cell_type": "code",
   "execution_count": 197,
   "id": "bae5b822",
   "metadata": {},
   "outputs": [
    {
     "data": {
      "text/html": [
       "<div>\n",
       "<style scoped>\n",
       "    .dataframe tbody tr th:only-of-type {\n",
       "        vertical-align: middle;\n",
       "    }\n",
       "\n",
       "    .dataframe tbody tr th {\n",
       "        vertical-align: top;\n",
       "    }\n",
       "\n",
       "    .dataframe thead th {\n",
       "        text-align: right;\n",
       "    }\n",
       "</style>\n",
       "<table border=\"1\" class=\"dataframe\">\n",
       "  <thead>\n",
       "    <tr style=\"text-align: right;\">\n",
       "      <th></th>\n",
       "      <th>Column1</th>\n",
       "      <th>Column2</th>\n",
       "      <th>Column3</th>\n",
       "      <th>Target</th>\n",
       "    </tr>\n",
       "  </thead>\n",
       "  <tbody>\n",
       "    <tr>\n",
       "      <th>21</th>\n",
       "      <td>0.368571</td>\n",
       "      <td>-2.250030</td>\n",
       "      <td>0.498043</td>\n",
       "      <td>104.995954</td>\n",
       "    </tr>\n",
       "    <tr>\n",
       "      <th>26</th>\n",
       "      <td>2.269897</td>\n",
       "      <td>-0.142669</td>\n",
       "      <td>-0.623480</td>\n",
       "      <td>100.340659</td>\n",
       "    </tr>\n",
       "    <tr>\n",
       "      <th>32</th>\n",
       "      <td>-0.229106</td>\n",
       "      <td>-0.656886</td>\n",
       "      <td>1.563552</td>\n",
       "      <td>27.580779</td>\n",
       "    </tr>\n",
       "    <tr>\n",
       "      <th>13</th>\n",
       "      <td>-0.415864</td>\n",
       "      <td>0.766504</td>\n",
       "      <td>0.068510</td>\n",
       "      <td>-31.899744</td>\n",
       "    </tr>\n",
       "    <tr>\n",
       "      <th>16</th>\n",
       "      <td>-0.614738</td>\n",
       "      <td>0.066742</td>\n",
       "      <td>0.482694</td>\n",
       "      <td>-103.590171</td>\n",
       "    </tr>\n",
       "    <tr>\n",
       "      <th>34</th>\n",
       "      <td>-0.847877</td>\n",
       "      <td>2.189270</td>\n",
       "      <td>-1.191294</td>\n",
       "      <td>-119.205450</td>\n",
       "    </tr>\n",
       "    <tr>\n",
       "      <th>36</th>\n",
       "      <td>-0.452898</td>\n",
       "      <td>1.142875</td>\n",
       "      <td>0.969274</td>\n",
       "      <td>20.199894</td>\n",
       "    </tr>\n",
       "  </tbody>\n",
       "</table>\n",
       "</div>"
      ],
      "text/plain": [
       "     Column1   Column2   Column3      Target\n",
       "21  0.368571 -2.250030  0.498043  104.995954\n",
       "26  2.269897 -0.142669 -0.623480  100.340659\n",
       "32 -0.229106 -0.656886  1.563552   27.580779\n",
       "13 -0.415864  0.766504  0.068510  -31.899744\n",
       "16 -0.614738  0.066742  0.482694 -103.590171\n",
       "34 -0.847877  2.189270 -1.191294 -119.205450\n",
       "36 -0.452898  1.142875  0.969274   20.199894"
      ]
     },
     "execution_count": 197,
     "metadata": {},
     "output_type": "execute_result"
    }
   ],
   "source": [
    "x,y = make_regression(n_samples = 40,n_features=3,n_targets=1,n_informative=1,noise=60)\n",
    "datas = pd.DataFrame({\n",
    "    'Column1':x[:,0],'Column2':x[:,1],'Column3':x[:,2],'Target':y\n",
    "})\n",
    "datas.sample(7)"
   ]
  },
  {
   "cell_type": "code",
   "execution_count": 198,
   "id": "9b063b7b",
   "metadata": {},
   "outputs": [
    {
     "name": "stdout",
     "output_type": "stream",
     "text": [
      "(40, 3)\n",
      "(40,)\n"
     ]
    }
   ],
   "source": [
    "print(x.shape)\n",
    "print(y.shape)"
   ]
  },
  {
   "cell_type": "code",
   "execution_count": 199,
   "id": "8be8c007",
   "metadata": {},
   "outputs": [
    {
     "name": "stdout",
     "output_type": "stream",
     "text": [
      "(36, 3)\n",
      "(4, 3)\n",
      "(36,)\n",
      "(4,)\n"
     ]
    }
   ],
   "source": [
    "xtrain,xtest,ytrain,ytest = train_test_split(x,y,test_size=0.1)\n",
    "print(xtrain.shape)\n",
    "print(xtest.shape)\n",
    "print(ytrain.shape)\n",
    "print(ytest.shape)"
   ]
  },
  {
   "cell_type": "code",
   "execution_count": 200,
   "id": "af28a6c6",
   "metadata": {},
   "outputs": [
    {
     "data": {
      "image/png": "[encoded data removed]",
      "text/plain": [
       "<Figure size 432x288 with 1 Axes>"
      ]
     },
     "metadata": {
      "needs_background": "light"
     },
     "output_type": "display_data"
    }
   ],
   "source": [
    "a = xtest[:,0:1]\n",
    "b = ytest\n",
    "plt.scatter(a,b)\n",
    "plt.show()"
   ]
  },
  {
   "cell_type": "markdown",
   "id": "86d93e1b",
   "metadata": {},
   "source": [
    "Method One"
   ]
  },
  {
   "cell_type": "code",
   "execution_count": 201,
   "id": "33b959f6",
   "metadata": {},
   "outputs": [
    {
     "data": {
      "text/plain": [
       "0.15378813487784138"
      ]
     },
     "execution_count": 201,
     "metadata": {},
     "output_type": "execute_result"
    }
   ],
   "source": [
    "from sklearn.linear_model import LinearRegression\n",
    "lr = LinearRegression()\n",
    "lr.fit(xtrain,ytrain)\n",
    "ypred = lr.predict(xtest)\n",
    "from sklearn.metrics import r2_score\n",
    "r2 = r2_score(ytest,ypred)\n",
    "r2"
   ]
  },
  {
   "cell_type": "code",
   "execution_count": 202,
   "id": "918222fc",
   "metadata": {},
   "outputs": [
    {
     "data": {
      "text/plain": [
       "array([68.95490906,  0.48553713, -3.7797614 ])"
      ]
     },
     "execution_count": 202,
     "metadata": {},
     "output_type": "execute_result"
    }
   ],
   "source": [
    "lr.coef_"
   ]
  },
  {
   "cell_type": "code",
   "execution_count": 203,
   "id": "4c3d9d87",
   "metadata": {},
   "outputs": [
    {
     "data": {
      "text/plain": [
       "7.560528924730731"
      ]
     },
     "execution_count": 203,
     "metadata": {},
     "output_type": "execute_result"
    }
   ],
   "source": [
    "lr.intercept_"
   ]
  },
  {
   "cell_type": "markdown",
   "id": "3ee32801",
   "metadata": {},
   "source": [
    "# Without Sklearn Modules"
   ]
  },
  {
   "cell_type": "code",
   "execution_count": 204,
   "id": "6f6f5418",
   "metadata": {},
   "outputs": [],
   "source": [
    "class GDRegressor:\n",
    "    def __init__(self,learnrate,epochs):\n",
    "        self.m = 100\n",
    "        self.b = -120\n",
    "        self.lr = learnrate\n",
    "        self.epochs = epochs\n",
    "        \n",
    "    def fit(self,xtrain,ytrain):\n",
    "        for i in range(self.epochs):\n",
    "            loss_slope_b = -2*np.sum(ytrain-self.m*xtrain.ravel()-self.b)\n",
    "            loss_slope_m = -2*np.sum((ytrain-self.m*xtrain.ravel()-self.b)*xtrain.ravel())\n",
    "            self.b = self.b-(self.lr-loss_slope_b)\n",
    "            self.m = self.m-(self.lr-loss_slope_m)\n",
    "        print(\"value of m = \",self.m)\n",
    "        print(\"value of b = \\n\",self.b)\n",
    "    def predict(self,xtest):\n",
    "        return self.m*xtest+self.b\n",
    "        "
   ]
  },
  {
   "cell_type": "code",
   "execution_count": 205,
   "id": "3442d70f",
   "metadata": {},
   "outputs": [],
   "source": [
    "gd = GDRegressor(0.01,10)"
   ]
  },
  {
   "cell_type": "code",
   "execution_count": 206,
   "id": "78f2324d",
   "metadata": {},
   "outputs": [],
   "source": [
    "x = datas.iloc[:,0:3].values\n",
    "y = datas.iloc[:,3:4].values"
   ]
  },
  {
   "cell_type": "code",
   "execution_count": 207,
   "id": "6a4acbeb",
   "metadata": {},
   "outputs": [
    {
     "name": "stdout",
     "output_type": "stream",
     "text": [
      "(36, 3)\n",
      "(4, 3)\n",
      "(36, 1)\n",
      "(4, 1)\n"
     ]
    }
   ],
   "source": [
    "xtrain,xtest,ytrain,ytest = train_test_split(x,y,test_size=0.1)\n",
    "print(xtrain.shape)\n",
    "print(xtest.shape)\n",
    "print(ytrain.shape)\n",
    "print(ytest.shape)"
   ]
  },
  {
   "cell_type": "code",
   "execution_count": 208,
   "id": "0f59fde7",
   "metadata": {},
   "outputs": [
    {
     "data": {
      "text/plain": [
       "array([[-0.16782734, -0.65657626,  1.4297348 ],\n",
       "       [ 1.31810256,  0.98020416, -0.2755127 ],\n",
       "       [-0.61473811,  0.0667425 ,  0.4826942 ],\n",
       "       [-0.30155685,  0.15400396,  0.53093095]])"
      ]
     },
     "execution_count": 208,
     "metadata": {},
     "output_type": "execute_result"
    }
   ],
   "source": [
    "xtest"
   ]
  },
  {
   "cell_type": "code",
   "execution_count": 209,
   "id": "c78a8631",
   "metadata": {},
   "outputs": [
    {
     "name": "stdout",
     "output_type": "stream",
     "text": [
      "value of m =  1.1292481186750403e+41\n",
      "value of b = \n",
      " -5.236173821697629e+40\n",
      "Time taken by algo =  0.003756284713745117\n"
     ]
    }
   ],
   "source": [
    "start = time.time()\n",
    "gd.fit(xtrain,ytrain)\n",
    "print(\"Time taken by algo = \",(time.time()-start))"
   ]
  },
  {
   "cell_type": "code",
   "execution_count": 210,
   "id": "3e596d39",
   "metadata": {},
   "outputs": [
    {
     "name": "stdout",
     "output_type": "stream",
     "text": [
      "[[-7.13136091e+40]\n",
      " [ 9.64847450e+40]\n",
      " [-1.21780924e+41]\n",
      " [-8.64149888e+40]]\n",
      "[[ -70.29245877]\n",
      " [  45.13528471]\n",
      " [-103.59017149]\n",
      " [ -17.5916137 ]]\n",
      "R2 score =  -2.8972400860322198e+78\n"
     ]
    }
   ],
   "source": [
    "ypred = gd.predict(xtest[:,0:1])\n",
    "print(ypred)\n",
    "print(ytest)\n",
    "r2 = r2_score(ytest,ypred)\n",
    "print(\"R2 score = \",r2)"
   ]
  },
  {
   "cell_type": "code",
   "execution_count": null,
   "id": "081d1561",
   "metadata": {},
   "outputs": [],
   "source": []
  }
 ],
 "metadata": {
  "kernelspec": {
   "display_name": "Python 3 (ipykernel)",
   "language": "python",
   "name": "python3"
  },
  "language_info": {
   "codemirror_mode": {
    "name": "ipython",
    "version": 3
   },
   "file_extension": ".py",
   "mimetype": "text/x-python",
   "name": "python",
   "nbconvert_exporter": "python",
   "pygments_lexer": "ipython3",
   "version": "3.9.12"
  }
 },
 "nbformat": 4,
 "nbformat_minor": 5
}
