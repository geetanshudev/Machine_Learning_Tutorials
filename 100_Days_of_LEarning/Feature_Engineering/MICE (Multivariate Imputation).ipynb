{
 "cells": [
  {
   "cell_type": "code",
   "execution_count": 53,
   "id": "5f93346f",
   "metadata": {},
   "outputs": [],
   "source": [
    "import warnings\n",
    "warnings.filterwarnings(\"ignore\")\n",
    "import pandas as pd\n",
    "import numpy as np \n",
    "from sklearn.experimental import enable_iterative_imputer\n",
    "from sklearn.impute import IterativeImputer \n",
    "imputer = IterativeImputer(random_state=100, max_iter=10)"
   ]
  },
  {
   "cell_type": "code",
   "execution_count": 54,
   "id": "38205108",
   "metadata": {},
   "outputs": [
    {
     "data": {
      "text/html": [
       "<div>\n",
       "<style scoped>\n",
       "    .dataframe tbody tr th:only-of-type {\n",
       "        vertical-align: middle;\n",
       "    }\n",
       "\n",
       "    .dataframe tbody tr th {\n",
       "        vertical-align: top;\n",
       "    }\n",
       "\n",
       "    .dataframe thead th {\n",
       "        text-align: right;\n",
       "    }\n",
       "</style>\n",
       "<table border=\"1\" class=\"dataframe\">\n",
       "  <thead>\n",
       "    <tr style=\"text-align: right;\">\n",
       "      <th></th>\n",
       "      <th>Age</th>\n",
       "      <th>Experience</th>\n",
       "      <th>Salary</th>\n",
       "    </tr>\n",
       "  </thead>\n",
       "  <tbody>\n",
       "    <tr>\n",
       "      <th>0</th>\n",
       "      <td>25.0</td>\n",
       "      <td>NaN</td>\n",
       "      <td>50.0</td>\n",
       "    </tr>\n",
       "    <tr>\n",
       "      <th>1</th>\n",
       "      <td>27.0</td>\n",
       "      <td>3.0</td>\n",
       "      <td>NaN</td>\n",
       "    </tr>\n",
       "    <tr>\n",
       "      <th>2</th>\n",
       "      <td>29.0</td>\n",
       "      <td>5.0</td>\n",
       "      <td>80.0</td>\n",
       "    </tr>\n",
       "    <tr>\n",
       "      <th>3</th>\n",
       "      <td>31.0</td>\n",
       "      <td>7.0</td>\n",
       "      <td>90.0</td>\n",
       "    </tr>\n",
       "    <tr>\n",
       "      <th>4</th>\n",
       "      <td>33.0</td>\n",
       "      <td>9.0</td>\n",
       "      <td>100.0</td>\n",
       "    </tr>\n",
       "    <tr>\n",
       "      <th>5</th>\n",
       "      <td>NaN</td>\n",
       "      <td>11.0</td>\n",
       "      <td>130.0</td>\n",
       "    </tr>\n",
       "  </tbody>\n",
       "</table>\n",
       "</div>"
      ],
      "text/plain": [
       "    Age  Experience  Salary\n",
       "0  25.0         NaN    50.0\n",
       "1  27.0         3.0     NaN\n",
       "2  29.0         5.0    80.0\n",
       "3  31.0         7.0    90.0\n",
       "4  33.0         9.0   100.0\n",
       "5   NaN        11.0   130.0"
      ]
     },
     "execution_count": 54,
     "metadata": {},
     "output_type": "execute_result"
    }
   ],
   "source": [
    "datas = {\n",
    "    'Age':[25,27,29,31,33,np.nan],\n",
    "    'Experience':[np.nan,3,5,7,9,11],\n",
    "    'Salary':[50,np.nan,80,90,100,130],\n",
    "}\n",
    "datas = pd.DataFrame(datas)\n",
    "datas\n"
   ]
  },
  {
   "cell_type": "code",
   "execution_count": 55,
   "id": "42682967",
   "metadata": {},
   "outputs": [
    {
     "name": "stdout",
     "output_type": "stream",
     "text": [
      "   Experience  Salary\n",
      "0         NaN    50.0\n",
      "1         3.0     NaN\n",
      "2         5.0    80.0\n",
      "3         7.0    90.0\n",
      "4         9.0   100.0\n",
      "   Experience  Salary\n",
      "5        11.0   130.0\n",
      "    Age\n",
      "0  25.0\n",
      "1  27.0\n",
      "2  29.0\n",
      "3  31.0\n",
      "4  33.0\n"
     ]
    }
   ],
   "source": [
    "xtrain = datas.iloc[:5,1:3]\n",
    "print(xtrain)\n",
    "xtest = datas.iloc[5:6,1:3]\n",
    "print(xtest)\n",
    "ytrain = datas.iloc[:5,0:1]\n",
    "print(ytrain)"
   ]
  },
  {
   "cell_type": "code",
   "execution_count": 56,
   "id": "73248668",
   "metadata": {},
   "outputs": [
    {
     "data": {
      "text/plain": [
       "array([[ 25.        ,   1.75810877,  50.        ],\n",
       "       [ 27.        ,   3.        ,  71.22166568],\n",
       "       [ 29.        ,   5.        ,  80.        ],\n",
       "       [ 31.        ,   7.        ,  90.        ],\n",
       "       [ 33.        ,   9.        , 100.        ],\n",
       "       [ 35.89919658,  11.        , 130.        ]])"
      ]
     },
     "execution_count": 56,
     "metadata": {},
     "output_type": "execute_result"
    }
   ],
   "source": [
    "imputer.fit(datas)\n",
    "df_imputed = imputer.transform(datas)\n",
    "df_imputed"
   ]
  },
  {
   "cell_type": "code",
   "execution_count": null,
   "id": "1f319bba",
   "metadata": {},
   "outputs": [],
   "source": []
  }
 ],
 "metadata": {
  "kernelspec": {
   "display_name": "Python 3 (ipykernel)",
   "language": "python",
   "name": "python3"
  },
  "language_info": {
   "codemirror_mode": {
    "name": "ipython",
    "version": 3
   },
   "file_extension": ".py",
   "mimetype": "text/x-python",
   "name": "python",
   "nbconvert_exporter": "python",
   "pygments_lexer": "ipython3",
   "version": "3.9.12"
  }
 },
 "nbformat": 4,
 "nbformat_minor": 5
}
